{
  "nbformat": 4,
  "nbformat_minor": 0,
  "metadata": {
    "colab": {
      "name": "h8dsft_Milestone2P2_karinautomo.ipynb",
      "provenance": [],
      "collapsed_sections": []
    },
    "kernelspec": {
      "name": "python3",
      "display_name": "Python 3"
    },
    "language_info": {
      "name": "python"
    }
  },
  "cells": [
    {
      "cell_type": "markdown",
      "metadata": {
        "id": "697E0f6LkPiY"
      },
      "source": [
        "# Milestone 2\n",
        "\n",
        "# Introduction\n",
        "\n",
        "Name: Karina Maharani Utomo\n",
        "<br>\n",
        "Batch: 003\n",
        "<br>\n",
        "Hactiv8 Full Time Data Science\n",
        "\n",
        "This milestone project utilises a Goodreads dataset that can be accessed [here](https://www.kaggle.com/meetnaren/goodreads-best-books)\n",
        "\n",
        "The dataset includes information about a book's title, author, description, edition, format, isbn, number of pages, average rating, number of ratings, reviews, genres, and cover\n",
        "\n",
        "The objective of this Milestone project is to classify the books into two categories: Fiction and Nonfiction, based on their description using Natural Language Processing (NLP)\n"
      ]
    },
    {
      "cell_type": "markdown",
      "metadata": {
        "id": "XcZK5ygemm0L"
      },
      "source": [
        "# Import Libraries"
      ]
    },
    {
      "cell_type": "code",
      "metadata": {
        "id": "Ye6gJFFeX8Rj",
        "colab": {
          "base_uri": "https://localhost:8080/"
        },
        "outputId": "1ed4768b-103a-485a-e534-62e6d255c30c"
      },
      "source": [
        "import pandas as pd\n",
        "import numpy as np\n",
        "import matplotlib.pyplot as plt\n",
        "import seaborn as sns\n",
        "\n",
        "!pip install langdetect\n",
        "from langdetect import detect\n",
        "\n",
        "from sklearn.model_selection import train_test_split\n",
        "import re\n",
        "\n",
        "import nltk\n",
        "from nltk.corpus import stopwords\n",
        "from nltk.tokenize import RegexpTokenizer\n",
        "from nltk.stem import WordNetLemmatizer\n",
        "from nltk.tokenize import sent_tokenize\n",
        "from keras.preprocessing.text import Tokenizer\n",
        "from keras.preprocessing.sequence import pad_sequences\n",
        "from gensim.models import Word2Vec\n",
        "\n",
        "import tensorflow as tf\n",
        "from tensorflow import keras\n",
        "from keras.models import Sequential\n",
        "from keras.layers import Dense, Dropout, Embedding, LSTM\n",
        "from tensorflow.keras.callbacks import EarlyStopping\n",
        "\n",
        "from sklearn.metrics import confusion_matrix , classification_report"
      ],
      "execution_count": 1,
      "outputs": [
        {
          "output_type": "stream",
          "name": "stdout",
          "text": [
            "Requirement already satisfied: langdetect in /usr/local/lib/python3.7/dist-packages (1.0.9)\n",
            "Requirement already satisfied: six in /usr/local/lib/python3.7/dist-packages (from langdetect) (1.15.0)\n"
          ]
        }
      ]
    },
    {
      "cell_type": "markdown",
      "metadata": {
        "id": "mN9o_2rOmxQK"
      },
      "source": [
        "# Data Loading"
      ]
    },
    {
      "cell_type": "code",
      "metadata": {
        "colab": {
          "base_uri": "https://localhost:8080/"
        },
        "id": "CRBS9QgNX82p",
        "outputId": "297f84fb-f4c4-49cc-c160-625e29a2b66a"
      },
      "source": [
        "from google.colab import drive\n",
        "drive.mount('/content/gdrive')"
      ],
      "execution_count": 2,
      "outputs": [
        {
          "output_type": "stream",
          "name": "stdout",
          "text": [
            "Drive already mounted at /content/gdrive; to attempt to forcibly remount, call drive.mount(\"/content/gdrive\", force_remount=True).\n"
          ]
        }
      ]
    },
    {
      "cell_type": "code",
      "metadata": {
        "colab": {
          "base_uri": "https://localhost:8080/",
          "height": 564
        },
        "id": "NfOPuyG1X_SO",
        "outputId": "afc2f971-7b7c-433c-923d-a45006abf11f"
      },
      "source": [
        "raw = pd.read_csv('/content/gdrive/MyDrive/data hacktiv8/book_data.csv')\n",
        "raw.head()"
      ],
      "execution_count": 3,
      "outputs": [
        {
          "output_type": "execute_result",
          "data": {
            "text/html": [
              "<div>\n",
              "<style scoped>\n",
              "    .dataframe tbody tr th:only-of-type {\n",
              "        vertical-align: middle;\n",
              "    }\n",
              "\n",
              "    .dataframe tbody tr th {\n",
              "        vertical-align: top;\n",
              "    }\n",
              "\n",
              "    .dataframe thead th {\n",
              "        text-align: right;\n",
              "    }\n",
              "</style>\n",
              "<table border=\"1\" class=\"dataframe\">\n",
              "  <thead>\n",
              "    <tr style=\"text-align: right;\">\n",
              "      <th></th>\n",
              "      <th>book_authors</th>\n",
              "      <th>book_desc</th>\n",
              "      <th>book_edition</th>\n",
              "      <th>book_format</th>\n",
              "      <th>book_isbn</th>\n",
              "      <th>book_pages</th>\n",
              "      <th>book_rating</th>\n",
              "      <th>book_rating_count</th>\n",
              "      <th>book_review_count</th>\n",
              "      <th>book_title</th>\n",
              "      <th>genres</th>\n",
              "      <th>image_url</th>\n",
              "    </tr>\n",
              "  </thead>\n",
              "  <tbody>\n",
              "    <tr>\n",
              "      <th>0</th>\n",
              "      <td>Suzanne Collins</td>\n",
              "      <td>Winning will make you famous. Losing means cer...</td>\n",
              "      <td>NaN</td>\n",
              "      <td>Hardcover</td>\n",
              "      <td>9.78044E+12</td>\n",
              "      <td>374 pages</td>\n",
              "      <td>4.33</td>\n",
              "      <td>5519135</td>\n",
              "      <td>160706</td>\n",
              "      <td>The Hunger Games</td>\n",
              "      <td>Young Adult|Fiction|Science Fiction|Dystopia|F...</td>\n",
              "      <td>https://images.gr-assets.com/books/1447303603l...</td>\n",
              "    </tr>\n",
              "    <tr>\n",
              "      <th>1</th>\n",
              "      <td>J.K. Rowling|Mary GrandPré</td>\n",
              "      <td>There is a door at the end of a silent corrido...</td>\n",
              "      <td>US Edition</td>\n",
              "      <td>Paperback</td>\n",
              "      <td>9.78044E+12</td>\n",
              "      <td>870 pages</td>\n",
              "      <td>4.48</td>\n",
              "      <td>2041594</td>\n",
              "      <td>33264</td>\n",
              "      <td>Harry Potter and the Order of the Phoenix</td>\n",
              "      <td>Fantasy|Young Adult|Fiction</td>\n",
              "      <td>https://images.gr-assets.com/books/1255614970l...</td>\n",
              "    </tr>\n",
              "    <tr>\n",
              "      <th>2</th>\n",
              "      <td>Harper Lee</td>\n",
              "      <td>The unforgettable novel of a childhood in a sl...</td>\n",
              "      <td>50th Anniversary</td>\n",
              "      <td>Paperback</td>\n",
              "      <td>9.78006E+12</td>\n",
              "      <td>324 pages</td>\n",
              "      <td>4.27</td>\n",
              "      <td>3745197</td>\n",
              "      <td>79450</td>\n",
              "      <td>To Kill a Mockingbird</td>\n",
              "      <td>Classics|Fiction|Historical|Historical Fiction...</td>\n",
              "      <td>https://images.gr-assets.com/books/1361975680l...</td>\n",
              "    </tr>\n",
              "    <tr>\n",
              "      <th>3</th>\n",
              "      <td>Jane Austen|Anna Quindlen|Mrs. Oliphant|George...</td>\n",
              "      <td>«È cosa ormai risaputa che a uno scapolo in po...</td>\n",
              "      <td>Modern Library Classics, USA / CAN</td>\n",
              "      <td>Paperback</td>\n",
              "      <td>9.78068E+12</td>\n",
              "      <td>279 pages</td>\n",
              "      <td>4.25</td>\n",
              "      <td>2453620</td>\n",
              "      <td>54322</td>\n",
              "      <td>Pride and Prejudice</td>\n",
              "      <td>Classics|Fiction|Romance</td>\n",
              "      <td>https://images.gr-assets.com/books/1320399351l...</td>\n",
              "    </tr>\n",
              "    <tr>\n",
              "      <th>4</th>\n",
              "      <td>Stephenie Meyer</td>\n",
              "      <td>About three things I was absolutely positive.F...</td>\n",
              "      <td>NaN</td>\n",
              "      <td>Paperback</td>\n",
              "      <td>9.78032E+12</td>\n",
              "      <td>498 pages</td>\n",
              "      <td>3.58</td>\n",
              "      <td>4281268</td>\n",
              "      <td>97991</td>\n",
              "      <td>Twilight</td>\n",
              "      <td>Young Adult|Fantasy|Romance|Paranormal|Vampire...</td>\n",
              "      <td>https://images.gr-assets.com/books/1361039443l...</td>\n",
              "    </tr>\n",
              "  </tbody>\n",
              "</table>\n",
              "</div>"
            ],
            "text/plain": [
              "                                        book_authors  ...                                          image_url\n",
              "0                                    Suzanne Collins  ...  https://images.gr-assets.com/books/1447303603l...\n",
              "1                         J.K. Rowling|Mary GrandPré  ...  https://images.gr-assets.com/books/1255614970l...\n",
              "2                                         Harper Lee  ...  https://images.gr-assets.com/books/1361975680l...\n",
              "3  Jane Austen|Anna Quindlen|Mrs. Oliphant|George...  ...  https://images.gr-assets.com/books/1320399351l...\n",
              "4                                    Stephenie Meyer  ...  https://images.gr-assets.com/books/1361039443l...\n",
              "\n",
              "[5 rows x 12 columns]"
            ]
          },
          "metadata": {},
          "execution_count": 3
        }
      ]
    },
    {
      "cell_type": "code",
      "metadata": {
        "colab": {
          "base_uri": "https://localhost:8080/"
        },
        "id": "ojmAYL6VYMbj",
        "outputId": "70b79fa9-5544-4e61-ea03-62d33215d60a"
      },
      "source": [
        "raw.shape"
      ],
      "execution_count": 4,
      "outputs": [
        {
          "output_type": "execute_result",
          "data": {
            "text/plain": [
              "(54301, 12)"
            ]
          },
          "metadata": {},
          "execution_count": 4
        }
      ]
    },
    {
      "cell_type": "markdown",
      "metadata": {
        "id": "FBtNgPJwm1jj"
      },
      "source": [
        "This dataset consists of 54301 rows and 12 columns"
      ]
    },
    {
      "cell_type": "code",
      "metadata": {
        "colab": {
          "base_uri": "https://localhost:8080/"
        },
        "id": "Fa2TgPwdYQZg",
        "outputId": "715bd7de-cee7-4aec-8b9f-dcf3ff04c068"
      },
      "source": [
        "raw.info()"
      ],
      "execution_count": 5,
      "outputs": [
        {
          "output_type": "stream",
          "name": "stdout",
          "text": [
            "<class 'pandas.core.frame.DataFrame'>\n",
            "RangeIndex: 54301 entries, 0 to 54300\n",
            "Data columns (total 12 columns):\n",
            " #   Column             Non-Null Count  Dtype  \n",
            "---  ------             --------------  -----  \n",
            " 0   book_authors       54301 non-null  object \n",
            " 1   book_desc          52970 non-null  object \n",
            " 2   book_edition       5453 non-null   object \n",
            " 3   book_format        52645 non-null  object \n",
            " 4   book_isbn          41435 non-null  object \n",
            " 5   book_pages         51779 non-null  object \n",
            " 6   book_rating        54301 non-null  float64\n",
            " 7   book_rating_count  54301 non-null  int64  \n",
            " 8   book_review_count  54301 non-null  int64  \n",
            " 9   book_title         54301 non-null  object \n",
            " 10  genres             51059 non-null  object \n",
            " 11  image_url          53618 non-null  object \n",
            "dtypes: float64(1), int64(2), object(9)\n",
            "memory usage: 5.0+ MB\n"
          ]
        }
      ]
    },
    {
      "cell_type": "markdown",
      "metadata": {
        "id": "QnUS1ryum6zx"
      },
      "source": [
        "For this project, the features that will be needed are `book_desc` and `genres`. The features `book_authors` and `book_title` will be selected for this part to make the process of identifying the book easier, if needed"
      ]
    },
    {
      "cell_type": "code",
      "metadata": {
        "colab": {
          "base_uri": "https://localhost:8080/",
          "height": 204
        },
        "id": "gM77iZkUf5C0",
        "outputId": "459f5a0a-8ea8-4435-bb57-373fa56d48b4"
      },
      "source": [
        "data = raw[['book_authors', 'book_title', 'book_desc', 'genres']]\n",
        "data.head()"
      ],
      "execution_count": 6,
      "outputs": [
        {
          "output_type": "execute_result",
          "data": {
            "text/html": [
              "<div>\n",
              "<style scoped>\n",
              "    .dataframe tbody tr th:only-of-type {\n",
              "        vertical-align: middle;\n",
              "    }\n",
              "\n",
              "    .dataframe tbody tr th {\n",
              "        vertical-align: top;\n",
              "    }\n",
              "\n",
              "    .dataframe thead th {\n",
              "        text-align: right;\n",
              "    }\n",
              "</style>\n",
              "<table border=\"1\" class=\"dataframe\">\n",
              "  <thead>\n",
              "    <tr style=\"text-align: right;\">\n",
              "      <th></th>\n",
              "      <th>book_authors</th>\n",
              "      <th>book_title</th>\n",
              "      <th>book_desc</th>\n",
              "      <th>genres</th>\n",
              "    </tr>\n",
              "  </thead>\n",
              "  <tbody>\n",
              "    <tr>\n",
              "      <th>0</th>\n",
              "      <td>Suzanne Collins</td>\n",
              "      <td>The Hunger Games</td>\n",
              "      <td>Winning will make you famous. Losing means cer...</td>\n",
              "      <td>Young Adult|Fiction|Science Fiction|Dystopia|F...</td>\n",
              "    </tr>\n",
              "    <tr>\n",
              "      <th>1</th>\n",
              "      <td>J.K. Rowling|Mary GrandPré</td>\n",
              "      <td>Harry Potter and the Order of the Phoenix</td>\n",
              "      <td>There is a door at the end of a silent corrido...</td>\n",
              "      <td>Fantasy|Young Adult|Fiction</td>\n",
              "    </tr>\n",
              "    <tr>\n",
              "      <th>2</th>\n",
              "      <td>Harper Lee</td>\n",
              "      <td>To Kill a Mockingbird</td>\n",
              "      <td>The unforgettable novel of a childhood in a sl...</td>\n",
              "      <td>Classics|Fiction|Historical|Historical Fiction...</td>\n",
              "    </tr>\n",
              "    <tr>\n",
              "      <th>3</th>\n",
              "      <td>Jane Austen|Anna Quindlen|Mrs. Oliphant|George...</td>\n",
              "      <td>Pride and Prejudice</td>\n",
              "      <td>«È cosa ormai risaputa che a uno scapolo in po...</td>\n",
              "      <td>Classics|Fiction|Romance</td>\n",
              "    </tr>\n",
              "    <tr>\n",
              "      <th>4</th>\n",
              "      <td>Stephenie Meyer</td>\n",
              "      <td>Twilight</td>\n",
              "      <td>About three things I was absolutely positive.F...</td>\n",
              "      <td>Young Adult|Fantasy|Romance|Paranormal|Vampire...</td>\n",
              "    </tr>\n",
              "  </tbody>\n",
              "</table>\n",
              "</div>"
            ],
            "text/plain": [
              "                                        book_authors  ...                                             genres\n",
              "0                                    Suzanne Collins  ...  Young Adult|Fiction|Science Fiction|Dystopia|F...\n",
              "1                         J.K. Rowling|Mary GrandPré  ...                        Fantasy|Young Adult|Fiction\n",
              "2                                         Harper Lee  ...  Classics|Fiction|Historical|Historical Fiction...\n",
              "3  Jane Austen|Anna Quindlen|Mrs. Oliphant|George...  ...                           Classics|Fiction|Romance\n",
              "4                                    Stephenie Meyer  ...  Young Adult|Fantasy|Romance|Paranormal|Vampire...\n",
              "\n",
              "[5 rows x 4 columns]"
            ]
          },
          "metadata": {},
          "execution_count": 6
        }
      ]
    },
    {
      "cell_type": "markdown",
      "metadata": {
        "id": "EwthDZ2QzbAG"
      },
      "source": [
        "# Data Cleaning"
      ]
    },
    {
      "cell_type": "code",
      "metadata": {
        "colab": {
          "base_uri": "https://localhost:8080/"
        },
        "id": "d3DlLsdLgMaD",
        "outputId": "f8430a85-145d-4755-893e-83c30601e9c7"
      },
      "source": [
        "# Checking for missing values\n",
        "\n",
        "data.isnull().sum()"
      ],
      "execution_count": 7,
      "outputs": [
        {
          "output_type": "execute_result",
          "data": {
            "text/plain": [
              "book_authors       0\n",
              "book_title         0\n",
              "book_desc       1331\n",
              "genres          3242\n",
              "dtype: int64"
            ]
          },
          "metadata": {},
          "execution_count": 7
        }
      ]
    },
    {
      "cell_type": "code",
      "metadata": {
        "colab": {
          "base_uri": "https://localhost:8080/"
        },
        "id": "PQUBPygkohHn",
        "outputId": "cc8a1de5-a010-4a86-9601-32c5399ccb8f"
      },
      "source": [
        "data.isnull().sum()/len(data)*100"
      ],
      "execution_count": 8,
      "outputs": [
        {
          "output_type": "execute_result",
          "data": {
            "text/plain": [
              "book_authors    0.000000\n",
              "book_title      0.000000\n",
              "book_desc       2.451152\n",
              "genres          5.970424\n",
              "dtype: float64"
            ]
          },
          "metadata": {},
          "execution_count": 8
        }
      ]
    },
    {
      "cell_type": "markdown",
      "metadata": {
        "id": "-H2HYRfOn4p6"
      },
      "source": [
        "There are missing values in `book_desc` and `genres`. The missing values will be dropped, since the amount aren't that many"
      ]
    },
    {
      "cell_type": "code",
      "metadata": {
        "colab": {
          "base_uri": "https://localhost:8080/"
        },
        "id": "08EjxCtBgPUD",
        "outputId": "b2dbe8a8-cb00-4fcc-ed1e-773959754423"
      },
      "source": [
        "data.dropna(subset = ['book_desc', 'genres'], inplace = True)\n",
        "data.isnull().sum()"
      ],
      "execution_count": 9,
      "outputs": [
        {
          "output_type": "stream",
          "name": "stderr",
          "text": [
            "/usr/local/lib/python3.7/dist-packages/ipykernel_launcher.py:1: SettingWithCopyWarning: \n",
            "A value is trying to be set on a copy of a slice from a DataFrame\n",
            "\n",
            "See the caveats in the documentation: https://pandas.pydata.org/pandas-docs/stable/user_guide/indexing.html#returning-a-view-versus-a-copy\n",
            "  \"\"\"Entry point for launching an IPython kernel.\n"
          ]
        },
        {
          "output_type": "execute_result",
          "data": {
            "text/plain": [
              "book_authors    0\n",
              "book_title      0\n",
              "book_desc       0\n",
              "genres          0\n",
              "dtype: int64"
            ]
          },
          "metadata": {},
          "execution_count": 9
        }
      ]
    },
    {
      "cell_type": "code",
      "metadata": {
        "colab": {
          "base_uri": "https://localhost:8080/"
        },
        "id": "mK_Gy99Sr38o",
        "outputId": "526a5ab2-6bb9-4eeb-e452-03cd931d1bb0"
      },
      "source": [
        "data.shape"
      ],
      "execution_count": 10,
      "outputs": [
        {
          "output_type": "execute_result",
          "data": {
            "text/plain": [
              "(50177, 4)"
            ]
          },
          "metadata": {},
          "execution_count": 10
        }
      ]
    },
    {
      "cell_type": "markdown",
      "metadata": {
        "id": "BGWBpJOMoylK"
      },
      "source": [
        "The dataset now has 50177 rows"
      ]
    },
    {
      "cell_type": "code",
      "metadata": {
        "colab": {
          "base_uri": "https://localhost:8080/",
          "height": 204
        },
        "id": "Rzc2bVCw8NeZ",
        "outputId": "6446e7d1-a1d7-4b17-f9ae-58fa7f5fa9ae"
      },
      "source": [
        "data.reset_index(inplace = True)\n",
        "data.tail()"
      ],
      "execution_count": 11,
      "outputs": [
        {
          "output_type": "execute_result",
          "data": {
            "text/html": [
              "<div>\n",
              "<style scoped>\n",
              "    .dataframe tbody tr th:only-of-type {\n",
              "        vertical-align: middle;\n",
              "    }\n",
              "\n",
              "    .dataframe tbody tr th {\n",
              "        vertical-align: top;\n",
              "    }\n",
              "\n",
              "    .dataframe thead th {\n",
              "        text-align: right;\n",
              "    }\n",
              "</style>\n",
              "<table border=\"1\" class=\"dataframe\">\n",
              "  <thead>\n",
              "    <tr style=\"text-align: right;\">\n",
              "      <th></th>\n",
              "      <th>index</th>\n",
              "      <th>book_authors</th>\n",
              "      <th>book_title</th>\n",
              "      <th>book_desc</th>\n",
              "      <th>genres</th>\n",
              "    </tr>\n",
              "  </thead>\n",
              "  <tbody>\n",
              "    <tr>\n",
              "      <th>50172</th>\n",
              "      <td>54295</td>\n",
              "      <td>Avi Steinberg</td>\n",
              "      <td>Running the Books: The Adventures of an Accide...</td>\n",
              "      <td>Avi Steinberg is stumped. After defecting from...</td>\n",
              "      <td>Nonfiction|Autobiography|Memoir|Biography|Writ...</td>\n",
              "    </tr>\n",
              "    <tr>\n",
              "      <th>50173</th>\n",
              "      <td>54296</td>\n",
              "      <td>Howard Megdal</td>\n",
              "      <td>Taking the Field: A Fan's Quest to Run the Tea...</td>\n",
              "      <td>In this fearless and half-crazy story, Howard ...</td>\n",
              "      <td>Sports|Baseball|Sports and Games|Sports|Nonfic...</td>\n",
              "    </tr>\n",
              "    <tr>\n",
              "      <th>50174</th>\n",
              "      <td>54297</td>\n",
              "      <td>Howard Megdal</td>\n",
              "      <td>The Baseball Talmud: Koufax, Greenberg, and th...</td>\n",
              "      <td>From the icons of the game to the players who ...</td>\n",
              "      <td>Nonfiction|Sports and Games|Sports</td>\n",
              "    </tr>\n",
              "    <tr>\n",
              "      <th>50175</th>\n",
              "      <td>54299</td>\n",
              "      <td>Mimi Baird|Eve Claxton</td>\n",
              "      <td>He Wanted the Moon: The Madness and Medical Ge...</td>\n",
              "      <td>Soon to be a major motion picture, from Brad P...</td>\n",
              "      <td>Nonfiction|Autobiography|Memoir|Biography|Psyc...</td>\n",
              "    </tr>\n",
              "    <tr>\n",
              "      <th>50176</th>\n",
              "      <td>54300</td>\n",
              "      <td>Leah Price</td>\n",
              "      <td>The Anthology and the Rise of the Novel: From ...</td>\n",
              "      <td>The Anthology and the Rise of the Novel brings...</td>\n",
              "      <td>Criticism|Literary Criticism|Philosophy|Theory...</td>\n",
              "    </tr>\n",
              "  </tbody>\n",
              "</table>\n",
              "</div>"
            ],
            "text/plain": [
              "       index  ...                                             genres\n",
              "50172  54295  ...  Nonfiction|Autobiography|Memoir|Biography|Writ...\n",
              "50173  54296  ...  Sports|Baseball|Sports and Games|Sports|Nonfic...\n",
              "50174  54297  ...                 Nonfiction|Sports and Games|Sports\n",
              "50175  54299  ...  Nonfiction|Autobiography|Memoir|Biography|Psyc...\n",
              "50176  54300  ...  Criticism|Literary Criticism|Philosophy|Theory...\n",
              "\n",
              "[5 rows x 5 columns]"
            ]
          },
          "metadata": {},
          "execution_count": 11
        }
      ]
    },
    {
      "cell_type": "code",
      "metadata": {
        "colab": {
          "base_uri": "https://localhost:8080/",
          "height": 640
        },
        "id": "NgQ3V2TU8TrY",
        "outputId": "87992f83-fd21-4f04-833a-7052363244a0"
      },
      "source": [
        "data.drop('index', axis = 1, inplace = True)\n",
        "data"
      ],
      "execution_count": 12,
      "outputs": [
        {
          "output_type": "stream",
          "name": "stderr",
          "text": [
            "/usr/local/lib/python3.7/dist-packages/pandas/core/frame.py:4174: SettingWithCopyWarning: \n",
            "A value is trying to be set on a copy of a slice from a DataFrame\n",
            "\n",
            "See the caveats in the documentation: https://pandas.pydata.org/pandas-docs/stable/user_guide/indexing.html#returning-a-view-versus-a-copy\n",
            "  errors=errors,\n"
          ]
        },
        {
          "output_type": "execute_result",
          "data": {
            "text/html": [
              "<div>\n",
              "<style scoped>\n",
              "    .dataframe tbody tr th:only-of-type {\n",
              "        vertical-align: middle;\n",
              "    }\n",
              "\n",
              "    .dataframe tbody tr th {\n",
              "        vertical-align: top;\n",
              "    }\n",
              "\n",
              "    .dataframe thead th {\n",
              "        text-align: right;\n",
              "    }\n",
              "</style>\n",
              "<table border=\"1\" class=\"dataframe\">\n",
              "  <thead>\n",
              "    <tr style=\"text-align: right;\">\n",
              "      <th></th>\n",
              "      <th>book_authors</th>\n",
              "      <th>book_title</th>\n",
              "      <th>book_desc</th>\n",
              "      <th>genres</th>\n",
              "    </tr>\n",
              "  </thead>\n",
              "  <tbody>\n",
              "    <tr>\n",
              "      <th>0</th>\n",
              "      <td>Suzanne Collins</td>\n",
              "      <td>The Hunger Games</td>\n",
              "      <td>Winning will make you famous. Losing means cer...</td>\n",
              "      <td>Young Adult|Fiction|Science Fiction|Dystopia|F...</td>\n",
              "    </tr>\n",
              "    <tr>\n",
              "      <th>1</th>\n",
              "      <td>J.K. Rowling|Mary GrandPré</td>\n",
              "      <td>Harry Potter and the Order of the Phoenix</td>\n",
              "      <td>There is a door at the end of a silent corrido...</td>\n",
              "      <td>Fantasy|Young Adult|Fiction</td>\n",
              "    </tr>\n",
              "    <tr>\n",
              "      <th>2</th>\n",
              "      <td>Harper Lee</td>\n",
              "      <td>To Kill a Mockingbird</td>\n",
              "      <td>The unforgettable novel of a childhood in a sl...</td>\n",
              "      <td>Classics|Fiction|Historical|Historical Fiction...</td>\n",
              "    </tr>\n",
              "    <tr>\n",
              "      <th>3</th>\n",
              "      <td>Jane Austen|Anna Quindlen|Mrs. Oliphant|George...</td>\n",
              "      <td>Pride and Prejudice</td>\n",
              "      <td>«È cosa ormai risaputa che a uno scapolo in po...</td>\n",
              "      <td>Classics|Fiction|Romance</td>\n",
              "    </tr>\n",
              "    <tr>\n",
              "      <th>4</th>\n",
              "      <td>Stephenie Meyer</td>\n",
              "      <td>Twilight</td>\n",
              "      <td>About three things I was absolutely positive.F...</td>\n",
              "      <td>Young Adult|Fantasy|Romance|Paranormal|Vampire...</td>\n",
              "    </tr>\n",
              "    <tr>\n",
              "      <th>...</th>\n",
              "      <td>...</td>\n",
              "      <td>...</td>\n",
              "      <td>...</td>\n",
              "      <td>...</td>\n",
              "    </tr>\n",
              "    <tr>\n",
              "      <th>50172</th>\n",
              "      <td>Avi Steinberg</td>\n",
              "      <td>Running the Books: The Adventures of an Accide...</td>\n",
              "      <td>Avi Steinberg is stumped. After defecting from...</td>\n",
              "      <td>Nonfiction|Autobiography|Memoir|Biography|Writ...</td>\n",
              "    </tr>\n",
              "    <tr>\n",
              "      <th>50173</th>\n",
              "      <td>Howard Megdal</td>\n",
              "      <td>Taking the Field: A Fan's Quest to Run the Tea...</td>\n",
              "      <td>In this fearless and half-crazy story, Howard ...</td>\n",
              "      <td>Sports|Baseball|Sports and Games|Sports|Nonfic...</td>\n",
              "    </tr>\n",
              "    <tr>\n",
              "      <th>50174</th>\n",
              "      <td>Howard Megdal</td>\n",
              "      <td>The Baseball Talmud: Koufax, Greenberg, and th...</td>\n",
              "      <td>From the icons of the game to the players who ...</td>\n",
              "      <td>Nonfiction|Sports and Games|Sports</td>\n",
              "    </tr>\n",
              "    <tr>\n",
              "      <th>50175</th>\n",
              "      <td>Mimi Baird|Eve Claxton</td>\n",
              "      <td>He Wanted the Moon: The Madness and Medical Ge...</td>\n",
              "      <td>Soon to be a major motion picture, from Brad P...</td>\n",
              "      <td>Nonfiction|Autobiography|Memoir|Biography|Psyc...</td>\n",
              "    </tr>\n",
              "    <tr>\n",
              "      <th>50176</th>\n",
              "      <td>Leah Price</td>\n",
              "      <td>The Anthology and the Rise of the Novel: From ...</td>\n",
              "      <td>The Anthology and the Rise of the Novel brings...</td>\n",
              "      <td>Criticism|Literary Criticism|Philosophy|Theory...</td>\n",
              "    </tr>\n",
              "  </tbody>\n",
              "</table>\n",
              "<p>50177 rows × 4 columns</p>\n",
              "</div>"
            ],
            "text/plain": [
              "                                            book_authors  ...                                             genres\n",
              "0                                        Suzanne Collins  ...  Young Adult|Fiction|Science Fiction|Dystopia|F...\n",
              "1                             J.K. Rowling|Mary GrandPré  ...                        Fantasy|Young Adult|Fiction\n",
              "2                                             Harper Lee  ...  Classics|Fiction|Historical|Historical Fiction...\n",
              "3      Jane Austen|Anna Quindlen|Mrs. Oliphant|George...  ...                           Classics|Fiction|Romance\n",
              "4                                        Stephenie Meyer  ...  Young Adult|Fantasy|Romance|Paranormal|Vampire...\n",
              "...                                                  ...  ...                                                ...\n",
              "50172                                      Avi Steinberg  ...  Nonfiction|Autobiography|Memoir|Biography|Writ...\n",
              "50173                                      Howard Megdal  ...  Sports|Baseball|Sports and Games|Sports|Nonfic...\n",
              "50174                                      Howard Megdal  ...                 Nonfiction|Sports and Games|Sports\n",
              "50175                             Mimi Baird|Eve Claxton  ...  Nonfiction|Autobiography|Memoir|Biography|Psyc...\n",
              "50176                                         Leah Price  ...  Criticism|Literary Criticism|Philosophy|Theory...\n",
              "\n",
              "[50177 rows x 4 columns]"
            ]
          },
          "metadata": {},
          "execution_count": 12
        }
      ]
    },
    {
      "cell_type": "markdown",
      "metadata": {
        "id": "eWkqkGkDzjAk"
      },
      "source": [
        "# Data Exploration"
      ]
    },
    {
      "cell_type": "markdown",
      "metadata": {
        "id": "kefjFK3yz1bA"
      },
      "source": [
        "## Language of book description"
      ]
    },
    {
      "cell_type": "markdown",
      "metadata": {
        "id": "CIGrt4nFpHNB"
      },
      "source": [
        "From the dataset above, it can be seen that there are descriptions of a book that are not in English. For example, the book description of index 3. Before continuing, the language of each book's description needs to be identified first.\n",
        "\n",
        "If there are descriptions that are invalid, they will be dropped"
      ]
    },
    {
      "cell_type": "code",
      "metadata": {
        "id": "wocnIVxi7Cjd"
      },
      "source": [
        "invalid_desc_id = []\n",
        "\n",
        "for i in data.index:\n",
        "  try:\n",
        "    a = detect(data.at[i,'book_desc'])\n",
        "  except:\n",
        "    invalid_desc_id.append(i)\n",
        "    \n",
        "data = data.drop(index = invalid_desc_id)"
      ],
      "execution_count": 13,
      "outputs": []
    },
    {
      "cell_type": "code",
      "metadata": {
        "colab": {
          "base_uri": "https://localhost:8080/"
        },
        "id": "bd4fnvSD82gk",
        "outputId": "31a3b75c-7f2e-496c-ac05-c1fdb163aeaa"
      },
      "source": [
        "data.shape"
      ],
      "execution_count": 14,
      "outputs": [
        {
          "output_type": "execute_result",
          "data": {
            "text/plain": [
              "(50172, 4)"
            ]
          },
          "metadata": {},
          "execution_count": 14
        }
      ]
    },
    {
      "cell_type": "code",
      "metadata": {
        "colab": {
          "base_uri": "https://localhost:8080/",
          "height": 272
        },
        "id": "mz6WbJna6Ig7",
        "outputId": "3253c1b9-ae23-4c6c-d547-cab9ada851e7"
      },
      "source": [
        "data['language'] = data['book_desc'].map(lambda desc: detect(desc))\n",
        "data.head()"
      ],
      "execution_count": 15,
      "outputs": [
        {
          "output_type": "execute_result",
          "data": {
            "text/html": [
              "<div>\n",
              "<style scoped>\n",
              "    .dataframe tbody tr th:only-of-type {\n",
              "        vertical-align: middle;\n",
              "    }\n",
              "\n",
              "    .dataframe tbody tr th {\n",
              "        vertical-align: top;\n",
              "    }\n",
              "\n",
              "    .dataframe thead th {\n",
              "        text-align: right;\n",
              "    }\n",
              "</style>\n",
              "<table border=\"1\" class=\"dataframe\">\n",
              "  <thead>\n",
              "    <tr style=\"text-align: right;\">\n",
              "      <th></th>\n",
              "      <th>book_authors</th>\n",
              "      <th>book_title</th>\n",
              "      <th>book_desc</th>\n",
              "      <th>genres</th>\n",
              "      <th>language</th>\n",
              "    </tr>\n",
              "  </thead>\n",
              "  <tbody>\n",
              "    <tr>\n",
              "      <th>0</th>\n",
              "      <td>Suzanne Collins</td>\n",
              "      <td>The Hunger Games</td>\n",
              "      <td>Winning will make you famous. Losing means cer...</td>\n",
              "      <td>Young Adult|Fiction|Science Fiction|Dystopia|F...</td>\n",
              "      <td>en</td>\n",
              "    </tr>\n",
              "    <tr>\n",
              "      <th>1</th>\n",
              "      <td>J.K. Rowling|Mary GrandPré</td>\n",
              "      <td>Harry Potter and the Order of the Phoenix</td>\n",
              "      <td>There is a door at the end of a silent corrido...</td>\n",
              "      <td>Fantasy|Young Adult|Fiction</td>\n",
              "      <td>en</td>\n",
              "    </tr>\n",
              "    <tr>\n",
              "      <th>2</th>\n",
              "      <td>Harper Lee</td>\n",
              "      <td>To Kill a Mockingbird</td>\n",
              "      <td>The unforgettable novel of a childhood in a sl...</td>\n",
              "      <td>Classics|Fiction|Historical|Historical Fiction...</td>\n",
              "      <td>en</td>\n",
              "    </tr>\n",
              "    <tr>\n",
              "      <th>3</th>\n",
              "      <td>Jane Austen|Anna Quindlen|Mrs. Oliphant|George...</td>\n",
              "      <td>Pride and Prejudice</td>\n",
              "      <td>«È cosa ormai risaputa che a uno scapolo in po...</td>\n",
              "      <td>Classics|Fiction|Romance</td>\n",
              "      <td>it</td>\n",
              "    </tr>\n",
              "    <tr>\n",
              "      <th>4</th>\n",
              "      <td>Stephenie Meyer</td>\n",
              "      <td>Twilight</td>\n",
              "      <td>About three things I was absolutely positive.F...</td>\n",
              "      <td>Young Adult|Fantasy|Romance|Paranormal|Vampire...</td>\n",
              "      <td>en</td>\n",
              "    </tr>\n",
              "  </tbody>\n",
              "</table>\n",
              "</div>"
            ],
            "text/plain": [
              "                                        book_authors  ... language\n",
              "0                                    Suzanne Collins  ...       en\n",
              "1                         J.K. Rowling|Mary GrandPré  ...       en\n",
              "2                                         Harper Lee  ...       en\n",
              "3  Jane Austen|Anna Quindlen|Mrs. Oliphant|George...  ...       it\n",
              "4                                    Stephenie Meyer  ...       en\n",
              "\n",
              "[5 rows x 5 columns]"
            ]
          },
          "metadata": {},
          "execution_count": 15
        }
      ]
    },
    {
      "cell_type": "markdown",
      "metadata": {
        "id": "7X09ea2FrAvn"
      },
      "source": [
        "It can be seen that the languages are still in two-letter codes. To get the name of the languages, a list from Wikipedia will be used to map the code to the language name"
      ]
    },
    {
      "cell_type": "code",
      "metadata": {
        "id": "SEM9ZxSz8_P8"
      },
      "source": [
        "lang_dict = pd.read_html('https://en.wikipedia.org/wiki/List_of_ISO_639-1_codes')[1]\n",
        "lang_pd = lang_dict[['ISO language name','639-1']]\n",
        "lang_pd.columns = ['language','iso']"
      ],
      "execution_count": 16,
      "outputs": []
    },
    {
      "cell_type": "code",
      "metadata": {
        "colab": {
          "base_uri": "https://localhost:8080/",
          "height": 204
        },
        "id": "Kz1oo8dm-wq4",
        "outputId": "956e0729-8fab-4a0e-a865-0ba62c315593"
      },
      "source": [
        "lang_pd.head()"
      ],
      "execution_count": 17,
      "outputs": [
        {
          "output_type": "execute_result",
          "data": {
            "text/html": [
              "<div>\n",
              "<style scoped>\n",
              "    .dataframe tbody tr th:only-of-type {\n",
              "        vertical-align: middle;\n",
              "    }\n",
              "\n",
              "    .dataframe tbody tr th {\n",
              "        vertical-align: top;\n",
              "    }\n",
              "\n",
              "    .dataframe thead th {\n",
              "        text-align: right;\n",
              "    }\n",
              "</style>\n",
              "<table border=\"1\" class=\"dataframe\">\n",
              "  <thead>\n",
              "    <tr style=\"text-align: right;\">\n",
              "      <th></th>\n",
              "      <th>language</th>\n",
              "      <th>iso</th>\n",
              "    </tr>\n",
              "  </thead>\n",
              "  <tbody>\n",
              "    <tr>\n",
              "      <th>0</th>\n",
              "      <td>Abkhazian</td>\n",
              "      <td>ab</td>\n",
              "    </tr>\n",
              "    <tr>\n",
              "      <th>1</th>\n",
              "      <td>Afar</td>\n",
              "      <td>aa</td>\n",
              "    </tr>\n",
              "    <tr>\n",
              "      <th>2</th>\n",
              "      <td>Afrikaans</td>\n",
              "      <td>af</td>\n",
              "    </tr>\n",
              "    <tr>\n",
              "      <th>3</th>\n",
              "      <td>Akan</td>\n",
              "      <td>ak</td>\n",
              "    </tr>\n",
              "    <tr>\n",
              "      <th>4</th>\n",
              "      <td>Albanian</td>\n",
              "      <td>sq</td>\n",
              "    </tr>\n",
              "  </tbody>\n",
              "</table>\n",
              "</div>"
            ],
            "text/plain": [
              "    language iso\n",
              "0  Abkhazian  ab\n",
              "1       Afar  aa\n",
              "2  Afrikaans  af\n",
              "3       Akan  ak\n",
              "4   Albanian  sq"
            ]
          },
          "metadata": {},
          "execution_count": 17
        }
      ]
    },
    {
      "cell_type": "code",
      "metadata": {
        "colab": {
          "base_uri": "https://localhost:8080/",
          "height": 289
        },
        "id": "q_JJwWqe-0dp",
        "outputId": "ec2af3b0-180b-4948-f328-569aac619f11"
      },
      "source": [
        "# Creating a new column for the language name\n",
        "\n",
        "def desc_lang(x):\n",
        "    if x in list(lang_pd['iso']):\n",
        "        return lang_pd[lang_pd['iso'] == x]['language'].values[0]\n",
        "    else:\n",
        "        return 'NaN'\n",
        "\n",
        "data['language_name'] = data['language'].apply(desc_lang)\n",
        "data.head()"
      ],
      "execution_count": 18,
      "outputs": [
        {
          "output_type": "execute_result",
          "data": {
            "text/html": [
              "<div>\n",
              "<style scoped>\n",
              "    .dataframe tbody tr th:only-of-type {\n",
              "        vertical-align: middle;\n",
              "    }\n",
              "\n",
              "    .dataframe tbody tr th {\n",
              "        vertical-align: top;\n",
              "    }\n",
              "\n",
              "    .dataframe thead th {\n",
              "        text-align: right;\n",
              "    }\n",
              "</style>\n",
              "<table border=\"1\" class=\"dataframe\">\n",
              "  <thead>\n",
              "    <tr style=\"text-align: right;\">\n",
              "      <th></th>\n",
              "      <th>book_authors</th>\n",
              "      <th>book_title</th>\n",
              "      <th>book_desc</th>\n",
              "      <th>genres</th>\n",
              "      <th>language</th>\n",
              "      <th>language_name</th>\n",
              "    </tr>\n",
              "  </thead>\n",
              "  <tbody>\n",
              "    <tr>\n",
              "      <th>0</th>\n",
              "      <td>Suzanne Collins</td>\n",
              "      <td>The Hunger Games</td>\n",
              "      <td>Winning will make you famous. Losing means cer...</td>\n",
              "      <td>Young Adult|Fiction|Science Fiction|Dystopia|F...</td>\n",
              "      <td>en</td>\n",
              "      <td>English</td>\n",
              "    </tr>\n",
              "    <tr>\n",
              "      <th>1</th>\n",
              "      <td>J.K. Rowling|Mary GrandPré</td>\n",
              "      <td>Harry Potter and the Order of the Phoenix</td>\n",
              "      <td>There is a door at the end of a silent corrido...</td>\n",
              "      <td>Fantasy|Young Adult|Fiction</td>\n",
              "      <td>en</td>\n",
              "      <td>English</td>\n",
              "    </tr>\n",
              "    <tr>\n",
              "      <th>2</th>\n",
              "      <td>Harper Lee</td>\n",
              "      <td>To Kill a Mockingbird</td>\n",
              "      <td>The unforgettable novel of a childhood in a sl...</td>\n",
              "      <td>Classics|Fiction|Historical|Historical Fiction...</td>\n",
              "      <td>en</td>\n",
              "      <td>English</td>\n",
              "    </tr>\n",
              "    <tr>\n",
              "      <th>3</th>\n",
              "      <td>Jane Austen|Anna Quindlen|Mrs. Oliphant|George...</td>\n",
              "      <td>Pride and Prejudice</td>\n",
              "      <td>«È cosa ormai risaputa che a uno scapolo in po...</td>\n",
              "      <td>Classics|Fiction|Romance</td>\n",
              "      <td>it</td>\n",
              "      <td>Italian</td>\n",
              "    </tr>\n",
              "    <tr>\n",
              "      <th>4</th>\n",
              "      <td>Stephenie Meyer</td>\n",
              "      <td>Twilight</td>\n",
              "      <td>About three things I was absolutely positive.F...</td>\n",
              "      <td>Young Adult|Fantasy|Romance|Paranormal|Vampire...</td>\n",
              "      <td>en</td>\n",
              "      <td>English</td>\n",
              "    </tr>\n",
              "  </tbody>\n",
              "</table>\n",
              "</div>"
            ],
            "text/plain": [
              "                                        book_authors  ... language_name\n",
              "0                                    Suzanne Collins  ...       English\n",
              "1                         J.K. Rowling|Mary GrandPré  ...       English\n",
              "2                                         Harper Lee  ...       English\n",
              "3  Jane Austen|Anna Quindlen|Mrs. Oliphant|George...  ...       Italian\n",
              "4                                    Stephenie Meyer  ...       English\n",
              "\n",
              "[5 rows x 6 columns]"
            ]
          },
          "metadata": {},
          "execution_count": 18
        }
      ]
    },
    {
      "cell_type": "code",
      "metadata": {
        "colab": {
          "base_uri": "https://localhost:8080/",
          "height": 560
        },
        "id": "ZghrQIUX_YyA",
        "outputId": "fcd2ab32-83d0-4fad-c1dd-c3dd149a797e"
      },
      "source": [
        "plt.figure(figsize = (30,10))\n",
        "\n",
        "lang_plot = sns.countplot(x = data['language_name'], palette = 'RdYlBu')\n",
        "for p in lang_plot.patches:\n",
        "    lang_plot.annotate(format(p.get_height(), '.0f'), \n",
        "                   (p.get_x() + p.get_width() / 2., p.get_height()), \n",
        "                   ha = 'center', va = 'center', \n",
        "                   xytext = (0, 9), \n",
        "                   textcoords = 'offset points')\n",
        "plt.xticks(rotation=45)\n",
        "plt.title('Language of Book')\n",
        "\n",
        "plt.show()"
      ],
      "execution_count": 19,
      "outputs": [
        {
          "output_type": "display_data",
          "data": {
            "image/png": "[encoded data removed]",
            "text/plain": [
              "<Figure size 2160x720 with 1 Axes>"
            ]
          },
          "metadata": {
            "needs_background": "light"
          }
        }
      ]
    },
    {
      "cell_type": "markdown",
      "metadata": {
        "id": "BhoUzBdyr5Sg"
      },
      "source": [
        "As most of the descriptions are in English, to make the process of model building easier, descriptions in other languages will not be included in the next steps"
      ]
    },
    {
      "cell_type": "code",
      "metadata": {
        "id": "dcfDEHanAGQg",
        "colab": {
          "base_uri": "https://localhost:8080/",
          "height": 289
        },
        "outputId": "c840ddec-4976-4654-a9a0-53339c4150fd"
      },
      "source": [
        "data = data[data['language_name']=='English']\n",
        "data.reset_index(inplace = True)\n",
        "data.tail()"
      ],
      "execution_count": 20,
      "outputs": [
        {
          "output_type": "execute_result",
          "data": {
            "text/html": [
              "<div>\n",
              "<style scoped>\n",
              "    .dataframe tbody tr th:only-of-type {\n",
              "        vertical-align: middle;\n",
              "    }\n",
              "\n",
              "    .dataframe tbody tr th {\n",
              "        vertical-align: top;\n",
              "    }\n",
              "\n",
              "    .dataframe thead th {\n",
              "        text-align: right;\n",
              "    }\n",
              "</style>\n",
              "<table border=\"1\" class=\"dataframe\">\n",
              "  <thead>\n",
              "    <tr style=\"text-align: right;\">\n",
              "      <th></th>\n",
              "      <th>index</th>\n",
              "      <th>book_authors</th>\n",
              "      <th>book_title</th>\n",
              "      <th>book_desc</th>\n",
              "      <th>genres</th>\n",
              "      <th>language</th>\n",
              "      <th>language_name</th>\n",
              "    </tr>\n",
              "  </thead>\n",
              "  <tbody>\n",
              "    <tr>\n",
              "      <th>43790</th>\n",
              "      <td>50172</td>\n",
              "      <td>Avi Steinberg</td>\n",
              "      <td>Running the Books: The Adventures of an Accide...</td>\n",
              "      <td>Avi Steinberg is stumped. After defecting from...</td>\n",
              "      <td>Nonfiction|Autobiography|Memoir|Biography|Writ...</td>\n",
              "      <td>en</td>\n",
              "      <td>English</td>\n",
              "    </tr>\n",
              "    <tr>\n",
              "      <th>43791</th>\n",
              "      <td>50173</td>\n",
              "      <td>Howard Megdal</td>\n",
              "      <td>Taking the Field: A Fan's Quest to Run the Tea...</td>\n",
              "      <td>In this fearless and half-crazy story, Howard ...</td>\n",
              "      <td>Sports|Baseball|Sports and Games|Sports|Nonfic...</td>\n",
              "      <td>en</td>\n",
              "      <td>English</td>\n",
              "    </tr>\n",
              "    <tr>\n",
              "      <th>43792</th>\n",
              "      <td>50174</td>\n",
              "      <td>Howard Megdal</td>\n",
              "      <td>The Baseball Talmud: Koufax, Greenberg, and th...</td>\n",
              "      <td>From the icons of the game to the players who ...</td>\n",
              "      <td>Nonfiction|Sports and Games|Sports</td>\n",
              "      <td>en</td>\n",
              "      <td>English</td>\n",
              "    </tr>\n",
              "    <tr>\n",
              "      <th>43793</th>\n",
              "      <td>50175</td>\n",
              "      <td>Mimi Baird|Eve Claxton</td>\n",
              "      <td>He Wanted the Moon: The Madness and Medical Ge...</td>\n",
              "      <td>Soon to be a major motion picture, from Brad P...</td>\n",
              "      <td>Nonfiction|Autobiography|Memoir|Biography|Psyc...</td>\n",
              "      <td>en</td>\n",
              "      <td>English</td>\n",
              "    </tr>\n",
              "    <tr>\n",
              "      <th>43794</th>\n",
              "      <td>50176</td>\n",
              "      <td>Leah Price</td>\n",
              "      <td>The Anthology and the Rise of the Novel: From ...</td>\n",
              "      <td>The Anthology and the Rise of the Novel brings...</td>\n",
              "      <td>Criticism|Literary Criticism|Philosophy|Theory...</td>\n",
              "      <td>en</td>\n",
              "      <td>English</td>\n",
              "    </tr>\n",
              "  </tbody>\n",
              "</table>\n",
              "</div>"
            ],
            "text/plain": [
              "       index            book_authors  ... language language_name\n",
              "43790  50172           Avi Steinberg  ...       en       English\n",
              "43791  50173           Howard Megdal  ...       en       English\n",
              "43792  50174           Howard Megdal  ...       en       English\n",
              "43793  50175  Mimi Baird|Eve Claxton  ...       en       English\n",
              "43794  50176              Leah Price  ...       en       English\n",
              "\n",
              "[5 rows x 7 columns]"
            ]
          },
          "metadata": {},
          "execution_count": 20
        }
      ]
    },
    {
      "cell_type": "code",
      "metadata": {
        "colab": {
          "base_uri": "https://localhost:8080/"
        },
        "id": "aaXn_uzdAXDe",
        "outputId": "17bd2851-1fb2-4a5d-a8c5-c22fe610422c"
      },
      "source": [
        "data['language_name'].value_counts()"
      ],
      "execution_count": 21,
      "outputs": [
        {
          "output_type": "execute_result",
          "data": {
            "text/plain": [
              "English    43795\n",
              "Name: language_name, dtype: int64"
            ]
          },
          "metadata": {},
          "execution_count": 21
        }
      ]
    },
    {
      "cell_type": "markdown",
      "metadata": {
        "id": "uTjN83Lbz_4L"
      },
      "source": [
        "There are 43791 rows of data that will be used"
      ]
    },
    {
      "cell_type": "markdown",
      "metadata": {
        "id": "ISEK57imz70V"
      },
      "source": [
        "## Genres of book"
      ]
    },
    {
      "cell_type": "markdown",
      "metadata": {
        "id": "W06jb9ck0G7o"
      },
      "source": [
        "In this dataset, each book has a list of genres. These genres need to be separated from each other, so that the amount of unique genres in this dataset and the amount of genres a book has can be counted"
      ]
    },
    {
      "cell_type": "code",
      "metadata": {
        "colab": {
          "base_uri": "https://localhost:8080/"
        },
        "id": "B-mkHUPYhUvQ",
        "outputId": "418cd8db-00e4-4511-9d77-901a53e9dccb"
      },
      "source": [
        "print('List of genres from the dataset    :', data.loc[0]['genres'])\n",
        "print('The genres after they\\'re separated:', data.loc[0]['genres'].split('|'))\n",
        "print('The amount of genres in that book  :', len(data.loc[0]['genres'].split('|')))"
      ],
      "execution_count": 22,
      "outputs": [
        {
          "output_type": "stream",
          "name": "stdout",
          "text": [
            "List of genres from the dataset    : Young Adult|Fiction|Science Fiction|Dystopia|Fantasy|Science Fiction\n",
            "The genres after they're separated: ['Young Adult', 'Fiction', 'Science Fiction', 'Dystopia', 'Fantasy', 'Science Fiction']\n",
            "The amount of genres in that book  : 6\n"
          ]
        }
      ]
    },
    {
      "cell_type": "code",
      "metadata": {
        "id": "TneK7aJ8nA-z"
      },
      "source": [
        "# Funtion to count the number of genres in a book\n",
        "\n",
        "def num_of_genres(x):\n",
        "  return len(x.split('|'))\n",
        "\n",
        "data['num_of_genres'] = data['genres'].map(lambda x: num_of_genres(x))"
      ],
      "execution_count": 23,
      "outputs": []
    },
    {
      "cell_type": "code",
      "metadata": {
        "colab": {
          "base_uri": "https://localhost:8080/",
          "height": 289
        },
        "id": "-JqPCG8IsGLU",
        "outputId": "f4c045ce-40c3-482f-9174-eb91ba88e06a"
      },
      "source": [
        "data.head()"
      ],
      "execution_count": 24,
      "outputs": [
        {
          "output_type": "execute_result",
          "data": {
            "text/html": [
              "<div>\n",
              "<style scoped>\n",
              "    .dataframe tbody tr th:only-of-type {\n",
              "        vertical-align: middle;\n",
              "    }\n",
              "\n",
              "    .dataframe tbody tr th {\n",
              "        vertical-align: top;\n",
              "    }\n",
              "\n",
              "    .dataframe thead th {\n",
              "        text-align: right;\n",
              "    }\n",
              "</style>\n",
              "<table border=\"1\" class=\"dataframe\">\n",
              "  <thead>\n",
              "    <tr style=\"text-align: right;\">\n",
              "      <th></th>\n",
              "      <th>index</th>\n",
              "      <th>book_authors</th>\n",
              "      <th>book_title</th>\n",
              "      <th>book_desc</th>\n",
              "      <th>genres</th>\n",
              "      <th>language</th>\n",
              "      <th>language_name</th>\n",
              "      <th>num_of_genres</th>\n",
              "    </tr>\n",
              "  </thead>\n",
              "  <tbody>\n",
              "    <tr>\n",
              "      <th>0</th>\n",
              "      <td>0</td>\n",
              "      <td>Suzanne Collins</td>\n",
              "      <td>The Hunger Games</td>\n",
              "      <td>Winning will make you famous. Losing means cer...</td>\n",
              "      <td>Young Adult|Fiction|Science Fiction|Dystopia|F...</td>\n",
              "      <td>en</td>\n",
              "      <td>English</td>\n",
              "      <td>6</td>\n",
              "    </tr>\n",
              "    <tr>\n",
              "      <th>1</th>\n",
              "      <td>1</td>\n",
              "      <td>J.K. Rowling|Mary GrandPré</td>\n",
              "      <td>Harry Potter and the Order of the Phoenix</td>\n",
              "      <td>There is a door at the end of a silent corrido...</td>\n",
              "      <td>Fantasy|Young Adult|Fiction</td>\n",
              "      <td>en</td>\n",
              "      <td>English</td>\n",
              "      <td>3</td>\n",
              "    </tr>\n",
              "    <tr>\n",
              "      <th>2</th>\n",
              "      <td>2</td>\n",
              "      <td>Harper Lee</td>\n",
              "      <td>To Kill a Mockingbird</td>\n",
              "      <td>The unforgettable novel of a childhood in a sl...</td>\n",
              "      <td>Classics|Fiction|Historical|Historical Fiction...</td>\n",
              "      <td>en</td>\n",
              "      <td>English</td>\n",
              "      <td>6</td>\n",
              "    </tr>\n",
              "    <tr>\n",
              "      <th>3</th>\n",
              "      <td>4</td>\n",
              "      <td>Stephenie Meyer</td>\n",
              "      <td>Twilight</td>\n",
              "      <td>About three things I was absolutely positive.F...</td>\n",
              "      <td>Young Adult|Fantasy|Romance|Paranormal|Vampire...</td>\n",
              "      <td>en</td>\n",
              "      <td>English</td>\n",
              "      <td>8</td>\n",
              "    </tr>\n",
              "    <tr>\n",
              "      <th>4</th>\n",
              "      <td>5</td>\n",
              "      <td>Markus Zusak</td>\n",
              "      <td>The Book Thief</td>\n",
              "      <td>Trying to make sense of the horrors of World W...</td>\n",
              "      <td>Historical|Historical Fiction|Fiction|Young Adult</td>\n",
              "      <td>en</td>\n",
              "      <td>English</td>\n",
              "      <td>4</td>\n",
              "    </tr>\n",
              "  </tbody>\n",
              "</table>\n",
              "</div>"
            ],
            "text/plain": [
              "   index                book_authors  ... language_name num_of_genres\n",
              "0      0             Suzanne Collins  ...       English             6\n",
              "1      1  J.K. Rowling|Mary GrandPré  ...       English             3\n",
              "2      2                  Harper Lee  ...       English             6\n",
              "3      4             Stephenie Meyer  ...       English             8\n",
              "4      5                Markus Zusak  ...       English             4\n",
              "\n",
              "[5 rows x 8 columns]"
            ]
          },
          "metadata": {},
          "execution_count": 24
        }
      ]
    },
    {
      "cell_type": "code",
      "metadata": {
        "colab": {
          "base_uri": "https://localhost:8080/",
          "height": 514
        },
        "id": "C7t2PfNEnKK0",
        "outputId": "58c84c83-6680-4494-eb80-ee305e28e963"
      },
      "source": [
        "plt.figure(figsize = (15,8))\n",
        "\n",
        "num_plot = sns.countplot(x = data['num_of_genres'], palette = 'RdYlBu')\n",
        "for p in num_plot.patches:\n",
        "    num_plot.annotate(format(p.get_height(), '.0f'), \n",
        "                   (p.get_x() + p.get_width() / 2., p.get_height()), \n",
        "                   ha = 'center', va = 'center', \n",
        "                   xytext = (0, 9), \n",
        "                   textcoords = 'offset points')\n",
        "plt.title('Number of Genres per Book')\n",
        "    \n",
        "plt.show()"
      ],
      "execution_count": 25,
      "outputs": [
        {
          "output_type": "display_data",
          "data": {
            "image/png": "[encoded data removed]",
            "text/plain": [
              "<Figure size 1080x576 with 1 Axes>"
            ]
          },
          "metadata": {
            "needs_background": "light"
          }
        }
      ]
    },
    {
      "cell_type": "markdown",
      "metadata": {
        "id": "llOc_7Vi1ZCi"
      },
      "source": [
        "Most of the books are classified into 5-6 different genres. There is also a few books that are classified into 16-18 genres"
      ]
    },
    {
      "cell_type": "code",
      "metadata": {
        "colab": {
          "base_uri": "https://localhost:8080/",
          "height": 391
        },
        "id": "QGx6NCo6t6h6",
        "outputId": "c3c63ad0-afd5-4e61-89ae-7e4b6b8c9fc5"
      },
      "source": [
        "# Function to separate the genres in a book\n",
        "\n",
        "def list_of_genres(x):\n",
        "  return (x.split('|'))\n",
        "\n",
        "data['list_of_genres'] = data['genres'].map(lambda x: list_of_genres(x))\n",
        "data.head()"
      ],
      "execution_count": 26,
      "outputs": [
        {
          "output_type": "execute_result",
          "data": {
            "text/html": [
              "<div>\n",
              "<style scoped>\n",
              "    .dataframe tbody tr th:only-of-type {\n",
              "        vertical-align: middle;\n",
              "    }\n",
              "\n",
              "    .dataframe tbody tr th {\n",
              "        vertical-align: top;\n",
              "    }\n",
              "\n",
              "    .dataframe thead th {\n",
              "        text-align: right;\n",
              "    }\n",
              "</style>\n",
              "<table border=\"1\" class=\"dataframe\">\n",
              "  <thead>\n",
              "    <tr style=\"text-align: right;\">\n",
              "      <th></th>\n",
              "      <th>index</th>\n",
              "      <th>book_authors</th>\n",
              "      <th>book_title</th>\n",
              "      <th>book_desc</th>\n",
              "      <th>genres</th>\n",
              "      <th>language</th>\n",
              "      <th>language_name</th>\n",
              "      <th>num_of_genres</th>\n",
              "      <th>list_of_genres</th>\n",
              "    </tr>\n",
              "  </thead>\n",
              "  <tbody>\n",
              "    <tr>\n",
              "      <th>0</th>\n",
              "      <td>0</td>\n",
              "      <td>Suzanne Collins</td>\n",
              "      <td>The Hunger Games</td>\n",
              "      <td>Winning will make you famous. Losing means cer...</td>\n",
              "      <td>Young Adult|Fiction|Science Fiction|Dystopia|F...</td>\n",
              "      <td>en</td>\n",
              "      <td>English</td>\n",
              "      <td>6</td>\n",
              "      <td>[Young Adult, Fiction, Science Fiction, Dystop...</td>\n",
              "    </tr>\n",
              "    <tr>\n",
              "      <th>1</th>\n",
              "      <td>1</td>\n",
              "      <td>J.K. Rowling|Mary GrandPré</td>\n",
              "      <td>Harry Potter and the Order of the Phoenix</td>\n",
              "      <td>There is a door at the end of a silent corrido...</td>\n",
              "      <td>Fantasy|Young Adult|Fiction</td>\n",
              "      <td>en</td>\n",
              "      <td>English</td>\n",
              "      <td>3</td>\n",
              "      <td>[Fantasy, Young Adult, Fiction]</td>\n",
              "    </tr>\n",
              "    <tr>\n",
              "      <th>2</th>\n",
              "      <td>2</td>\n",
              "      <td>Harper Lee</td>\n",
              "      <td>To Kill a Mockingbird</td>\n",
              "      <td>The unforgettable novel of a childhood in a sl...</td>\n",
              "      <td>Classics|Fiction|Historical|Historical Fiction...</td>\n",
              "      <td>en</td>\n",
              "      <td>English</td>\n",
              "      <td>6</td>\n",
              "      <td>[Classics, Fiction, Historical, Historical Fic...</td>\n",
              "    </tr>\n",
              "    <tr>\n",
              "      <th>3</th>\n",
              "      <td>4</td>\n",
              "      <td>Stephenie Meyer</td>\n",
              "      <td>Twilight</td>\n",
              "      <td>About three things I was absolutely positive.F...</td>\n",
              "      <td>Young Adult|Fantasy|Romance|Paranormal|Vampire...</td>\n",
              "      <td>en</td>\n",
              "      <td>English</td>\n",
              "      <td>8</td>\n",
              "      <td>[Young Adult, Fantasy, Romance, Paranormal, Va...</td>\n",
              "    </tr>\n",
              "    <tr>\n",
              "      <th>4</th>\n",
              "      <td>5</td>\n",
              "      <td>Markus Zusak</td>\n",
              "      <td>The Book Thief</td>\n",
              "      <td>Trying to make sense of the horrors of World W...</td>\n",
              "      <td>Historical|Historical Fiction|Fiction|Young Adult</td>\n",
              "      <td>en</td>\n",
              "      <td>English</td>\n",
              "      <td>4</td>\n",
              "      <td>[Historical, Historical Fiction, Fiction, Youn...</td>\n",
              "    </tr>\n",
              "  </tbody>\n",
              "</table>\n",
              "</div>"
            ],
            "text/plain": [
              "   index  ...                                     list_of_genres\n",
              "0      0  ...  [Young Adult, Fiction, Science Fiction, Dystop...\n",
              "1      1  ...                    [Fantasy, Young Adult, Fiction]\n",
              "2      2  ...  [Classics, Fiction, Historical, Historical Fic...\n",
              "3      4  ...  [Young Adult, Fantasy, Romance, Paranormal, Va...\n",
              "4      5  ...  [Historical, Historical Fiction, Fiction, Youn...\n",
              "\n",
              "[5 rows x 9 columns]"
            ]
          },
          "metadata": {},
          "execution_count": 26
        }
      ]
    },
    {
      "cell_type": "code",
      "metadata": {
        "colab": {
          "base_uri": "https://localhost:8080/",
          "height": 374
        },
        "id": "-gQoeOB-GIw0",
        "outputId": "2f33569f-c3ed-4083-a85e-43994d8ce73d"
      },
      "source": [
        "data.drop('index', axis = 1, inplace = True)\n",
        "data.head()"
      ],
      "execution_count": 27,
      "outputs": [
        {
          "output_type": "execute_result",
          "data": {
            "text/html": [
              "<div>\n",
              "<style scoped>\n",
              "    .dataframe tbody tr th:only-of-type {\n",
              "        vertical-align: middle;\n",
              "    }\n",
              "\n",
              "    .dataframe tbody tr th {\n",
              "        vertical-align: top;\n",
              "    }\n",
              "\n",
              "    .dataframe thead th {\n",
              "        text-align: right;\n",
              "    }\n",
              "</style>\n",
              "<table border=\"1\" class=\"dataframe\">\n",
              "  <thead>\n",
              "    <tr style=\"text-align: right;\">\n",
              "      <th></th>\n",
              "      <th>book_authors</th>\n",
              "      <th>book_title</th>\n",
              "      <th>book_desc</th>\n",
              "      <th>genres</th>\n",
              "      <th>language</th>\n",
              "      <th>language_name</th>\n",
              "      <th>num_of_genres</th>\n",
              "      <th>list_of_genres</th>\n",
              "    </tr>\n",
              "  </thead>\n",
              "  <tbody>\n",
              "    <tr>\n",
              "      <th>0</th>\n",
              "      <td>Suzanne Collins</td>\n",
              "      <td>The Hunger Games</td>\n",
              "      <td>Winning will make you famous. Losing means cer...</td>\n",
              "      <td>Young Adult|Fiction|Science Fiction|Dystopia|F...</td>\n",
              "      <td>en</td>\n",
              "      <td>English</td>\n",
              "      <td>6</td>\n",
              "      <td>[Young Adult, Fiction, Science Fiction, Dystop...</td>\n",
              "    </tr>\n",
              "    <tr>\n",
              "      <th>1</th>\n",
              "      <td>J.K. Rowling|Mary GrandPré</td>\n",
              "      <td>Harry Potter and the Order of the Phoenix</td>\n",
              "      <td>There is a door at the end of a silent corrido...</td>\n",
              "      <td>Fantasy|Young Adult|Fiction</td>\n",
              "      <td>en</td>\n",
              "      <td>English</td>\n",
              "      <td>3</td>\n",
              "      <td>[Fantasy, Young Adult, Fiction]</td>\n",
              "    </tr>\n",
              "    <tr>\n",
              "      <th>2</th>\n",
              "      <td>Harper Lee</td>\n",
              "      <td>To Kill a Mockingbird</td>\n",
              "      <td>The unforgettable novel of a childhood in a sl...</td>\n",
              "      <td>Classics|Fiction|Historical|Historical Fiction...</td>\n",
              "      <td>en</td>\n",
              "      <td>English</td>\n",
              "      <td>6</td>\n",
              "      <td>[Classics, Fiction, Historical, Historical Fic...</td>\n",
              "    </tr>\n",
              "    <tr>\n",
              "      <th>3</th>\n",
              "      <td>Stephenie Meyer</td>\n",
              "      <td>Twilight</td>\n",
              "      <td>About three things I was absolutely positive.F...</td>\n",
              "      <td>Young Adult|Fantasy|Romance|Paranormal|Vampire...</td>\n",
              "      <td>en</td>\n",
              "      <td>English</td>\n",
              "      <td>8</td>\n",
              "      <td>[Young Adult, Fantasy, Romance, Paranormal, Va...</td>\n",
              "    </tr>\n",
              "    <tr>\n",
              "      <th>4</th>\n",
              "      <td>Markus Zusak</td>\n",
              "      <td>The Book Thief</td>\n",
              "      <td>Trying to make sense of the horrors of World W...</td>\n",
              "      <td>Historical|Historical Fiction|Fiction|Young Adult</td>\n",
              "      <td>en</td>\n",
              "      <td>English</td>\n",
              "      <td>4</td>\n",
              "      <td>[Historical, Historical Fiction, Fiction, Youn...</td>\n",
              "    </tr>\n",
              "  </tbody>\n",
              "</table>\n",
              "</div>"
            ],
            "text/plain": [
              "                 book_authors  ...                                     list_of_genres\n",
              "0             Suzanne Collins  ...  [Young Adult, Fiction, Science Fiction, Dystop...\n",
              "1  J.K. Rowling|Mary GrandPré  ...                    [Fantasy, Young Adult, Fiction]\n",
              "2                  Harper Lee  ...  [Classics, Fiction, Historical, Historical Fic...\n",
              "3             Stephenie Meyer  ...  [Young Adult, Fantasy, Romance, Paranormal, Va...\n",
              "4                Markus Zusak  ...  [Historical, Historical Fiction, Fiction, Youn...\n",
              "\n",
              "[5 rows x 8 columns]"
            ]
          },
          "metadata": {},
          "execution_count": 27
        }
      ]
    },
    {
      "cell_type": "code",
      "metadata": {
        "id": "smi4PTzlreP0"
      },
      "source": [
        "# Listing all the unique genres in this dataset\n",
        "\n",
        "gens = set()\n",
        "for i in range(len(data)):\n",
        "  for j in range(len(data['list_of_genres'][i])):\n",
        "      gens.add(data['list_of_genres'][i][j])"
      ],
      "execution_count": 28,
      "outputs": []
    },
    {
      "cell_type": "code",
      "metadata": {
        "id": "M2lNjr2y9D33"
      },
      "source": [
        "# Counting the number of books in each genre\n",
        "\n",
        "gen_dict = {i:0 for i in gens}\n",
        "\n",
        "for i in range(len(data)):\n",
        "    for j in range(len(data['list_of_genres'][i])):\n",
        "        gen_dict[data['list_of_genres'][i][j]]+=1"
      ],
      "execution_count": 29,
      "outputs": []
    },
    {
      "cell_type": "code",
      "metadata": {
        "colab": {
          "base_uri": "https://localhost:8080/"
        },
        "id": "2ti75tVMAOY1",
        "outputId": "ed96d6ee-bfd9-4fc8-cce6-5ce732483f28"
      },
      "source": [
        "len(gen_dict)"
      ],
      "execution_count": 30,
      "outputs": [
        {
          "output_type": "execute_result",
          "data": {
            "text/plain": [
              "850"
            ]
          },
          "metadata": {},
          "execution_count": 30
        }
      ]
    },
    {
      "cell_type": "markdown",
      "metadata": {
        "id": "6YQKLRlj2Zks"
      },
      "source": [
        "There are a total of 850 different genres in this dataset. Here are the top 5 genres"
      ]
    },
    {
      "cell_type": "code",
      "metadata": {
        "colab": {
          "base_uri": "https://localhost:8080/",
          "height": 204
        },
        "id": "LZdO4LyRAHR4",
        "outputId": "8dfc1b77-b155-4014-dabe-8919ee6f4e77"
      },
      "source": [
        "gen_pd = pd.DataFrame.from_records(sorted(gen_dict.items(), key = lambda x:x[1], reverse=True), \n",
        "                                     columns=['genre', 'count'])\n",
        "gen_pd.head()"
      ],
      "execution_count": 31,
      "outputs": [
        {
          "output_type": "execute_result",
          "data": {
            "text/html": [
              "<div>\n",
              "<style scoped>\n",
              "    .dataframe tbody tr th:only-of-type {\n",
              "        vertical-align: middle;\n",
              "    }\n",
              "\n",
              "    .dataframe tbody tr th {\n",
              "        vertical-align: top;\n",
              "    }\n",
              "\n",
              "    .dataframe thead th {\n",
              "        text-align: right;\n",
              "    }\n",
              "</style>\n",
              "<table border=\"1\" class=\"dataframe\">\n",
              "  <thead>\n",
              "    <tr style=\"text-align: right;\">\n",
              "      <th></th>\n",
              "      <th>genre</th>\n",
              "      <th>count</th>\n",
              "    </tr>\n",
              "  </thead>\n",
              "  <tbody>\n",
              "    <tr>\n",
              "      <th>0</th>\n",
              "      <td>Fiction</td>\n",
              "      <td>22338</td>\n",
              "    </tr>\n",
              "    <tr>\n",
              "      <th>1</th>\n",
              "      <td>Fantasy</td>\n",
              "      <td>21630</td>\n",
              "    </tr>\n",
              "    <tr>\n",
              "      <th>2</th>\n",
              "      <td>Romance</td>\n",
              "      <td>17356</td>\n",
              "    </tr>\n",
              "    <tr>\n",
              "      <th>3</th>\n",
              "      <td>Young Adult</td>\n",
              "      <td>10295</td>\n",
              "    </tr>\n",
              "    <tr>\n",
              "      <th>4</th>\n",
              "      <td>Historical</td>\n",
              "      <td>9694</td>\n",
              "    </tr>\n",
              "  </tbody>\n",
              "</table>\n",
              "</div>"
            ],
            "text/plain": [
              "         genre  count\n",
              "0      Fiction  22338\n",
              "1      Fantasy  21630\n",
              "2      Romance  17356\n",
              "3  Young Adult  10295\n",
              "4   Historical   9694"
            ]
          },
          "metadata": {},
          "execution_count": 31
        }
      ]
    },
    {
      "cell_type": "code",
      "metadata": {
        "colab": {
          "base_uri": "https://localhost:8080/",
          "height": 568
        },
        "id": "oax4keuTBXmE",
        "outputId": "994001bd-0f32-45ee-c60d-6a16eba5d4ca"
      },
      "source": [
        "gen_10 = gen_pd[:10]\n",
        "\n",
        "plt.figure(figsize = (15,8))\n",
        "\n",
        "gen_plot = sns.barplot(data = gen_10, x = gen_10['genre'], y = gen_10['count'], palette = 'RdYlBu')\n",
        "for p in gen_plot.patches:\n",
        "    gen_plot.annotate(format(p.get_height(), '.0f'), \n",
        "                   (p.get_x() + p.get_width() / 2., p.get_height()), \n",
        "                   ha = 'center', va = 'center', \n",
        "                   xytext = (0, 9), \n",
        "                   textcoords = 'offset points')\n",
        "plt.xticks(rotation=45)\n",
        "plt.title('Top 10 Genres')\n",
        "\n",
        "plt.show()"
      ],
      "execution_count": 32,
      "outputs": [
        {
          "output_type": "display_data",
          "data": {
            "image/png": "[encoded data removed]",
            "text/plain": [
              "<Figure size 1080x576 with 1 Axes>"
            ]
          },
          "metadata": {
            "needs_background": "light"
          }
        }
      ]
    },
    {
      "cell_type": "markdown",
      "metadata": {
        "id": "YKBbuEwt2mT0"
      },
      "source": [
        "From the top 10 genres, two of them are 'Fiction' and 'Nonfiction'. Since every book can be classified into one of those genres, this Milestone Project will be focusing on that\n",
        "\n",
        "So for the next step, a new column will be added to label the book as simply Fiction or Nonfiction. The books that don't have 'Fiction' or 'Nonfiction' in their list of genres will be used in the Model Inference section of this Notebook"
      ]
    },
    {
      "cell_type": "code",
      "metadata": {
        "id": "mY2q-FdI1_oK"
      },
      "source": [
        "def determine_label(x):\n",
        "    if 'Fiction' in x:\n",
        "        return 'Fiction'\n",
        "    elif 'Nonfiction' in x:\n",
        "        return 'Nonfiction'\n",
        "    else:\n",
        "        return 'Not Determined'"
      ],
      "execution_count": 33,
      "outputs": []
    },
    {
      "cell_type": "code",
      "metadata": {
        "colab": {
          "base_uri": "https://localhost:8080/",
          "height": 374
        },
        "id": "tKQwmKQK2o3X",
        "outputId": "e93d4e9d-5429-4a5a-cd1b-76456f2adc3e"
      },
      "source": [
        "data['label'] = data['list_of_genres'].apply(determine_label)\n",
        "data.head()"
      ],
      "execution_count": 34,
      "outputs": [
        {
          "output_type": "execute_result",
          "data": {
            "text/html": [
              "<div>\n",
              "<style scoped>\n",
              "    .dataframe tbody tr th:only-of-type {\n",
              "        vertical-align: middle;\n",
              "    }\n",
              "\n",
              "    .dataframe tbody tr th {\n",
              "        vertical-align: top;\n",
              "    }\n",
              "\n",
              "    .dataframe thead th {\n",
              "        text-align: right;\n",
              "    }\n",
              "</style>\n",
              "<table border=\"1\" class=\"dataframe\">\n",
              "  <thead>\n",
              "    <tr style=\"text-align: right;\">\n",
              "      <th></th>\n",
              "      <th>book_authors</th>\n",
              "      <th>book_title</th>\n",
              "      <th>book_desc</th>\n",
              "      <th>genres</th>\n",
              "      <th>language</th>\n",
              "      <th>language_name</th>\n",
              "      <th>num_of_genres</th>\n",
              "      <th>list_of_genres</th>\n",
              "      <th>label</th>\n",
              "    </tr>\n",
              "  </thead>\n",
              "  <tbody>\n",
              "    <tr>\n",
              "      <th>0</th>\n",
              "      <td>Suzanne Collins</td>\n",
              "      <td>The Hunger Games</td>\n",
              "      <td>Winning will make you famous. Losing means cer...</td>\n",
              "      <td>Young Adult|Fiction|Science Fiction|Dystopia|F...</td>\n",
              "      <td>en</td>\n",
              "      <td>English</td>\n",
              "      <td>6</td>\n",
              "      <td>[Young Adult, Fiction, Science Fiction, Dystop...</td>\n",
              "      <td>Fiction</td>\n",
              "    </tr>\n",
              "    <tr>\n",
              "      <th>1</th>\n",
              "      <td>J.K. Rowling|Mary GrandPré</td>\n",
              "      <td>Harry Potter and the Order of the Phoenix</td>\n",
              "      <td>There is a door at the end of a silent corrido...</td>\n",
              "      <td>Fantasy|Young Adult|Fiction</td>\n",
              "      <td>en</td>\n",
              "      <td>English</td>\n",
              "      <td>3</td>\n",
              "      <td>[Fantasy, Young Adult, Fiction]</td>\n",
              "      <td>Fiction</td>\n",
              "    </tr>\n",
              "    <tr>\n",
              "      <th>2</th>\n",
              "      <td>Harper Lee</td>\n",
              "      <td>To Kill a Mockingbird</td>\n",
              "      <td>The unforgettable novel of a childhood in a sl...</td>\n",
              "      <td>Classics|Fiction|Historical|Historical Fiction...</td>\n",
              "      <td>en</td>\n",
              "      <td>English</td>\n",
              "      <td>6</td>\n",
              "      <td>[Classics, Fiction, Historical, Historical Fic...</td>\n",
              "      <td>Fiction</td>\n",
              "    </tr>\n",
              "    <tr>\n",
              "      <th>3</th>\n",
              "      <td>Stephenie Meyer</td>\n",
              "      <td>Twilight</td>\n",
              "      <td>About three things I was absolutely positive.F...</td>\n",
              "      <td>Young Adult|Fantasy|Romance|Paranormal|Vampire...</td>\n",
              "      <td>en</td>\n",
              "      <td>English</td>\n",
              "      <td>8</td>\n",
              "      <td>[Young Adult, Fantasy, Romance, Paranormal, Va...</td>\n",
              "      <td>Fiction</td>\n",
              "    </tr>\n",
              "    <tr>\n",
              "      <th>4</th>\n",
              "      <td>Markus Zusak</td>\n",
              "      <td>The Book Thief</td>\n",
              "      <td>Trying to make sense of the horrors of World W...</td>\n",
              "      <td>Historical|Historical Fiction|Fiction|Young Adult</td>\n",
              "      <td>en</td>\n",
              "      <td>English</td>\n",
              "      <td>4</td>\n",
              "      <td>[Historical, Historical Fiction, Fiction, Youn...</td>\n",
              "      <td>Fiction</td>\n",
              "    </tr>\n",
              "  </tbody>\n",
              "</table>\n",
              "</div>"
            ],
            "text/plain": [
              "                 book_authors  ...    label\n",
              "0             Suzanne Collins  ...  Fiction\n",
              "1  J.K. Rowling|Mary GrandPré  ...  Fiction\n",
              "2                  Harper Lee  ...  Fiction\n",
              "3             Stephenie Meyer  ...  Fiction\n",
              "4                Markus Zusak  ...  Fiction\n",
              "\n",
              "[5 rows x 9 columns]"
            ]
          },
          "metadata": {},
          "execution_count": 34
        }
      ]
    },
    {
      "cell_type": "code",
      "metadata": {
        "colab": {
          "base_uri": "https://localhost:8080/"
        },
        "id": "-ZbXS7Se3w1Y",
        "outputId": "8b872f1a-ab5c-473c-d449-ac4abf77ec19"
      },
      "source": [
        "fiction = data[data['label'] == 'Fiction'].reset_index()\n",
        "fiction.shape"
      ],
      "execution_count": 35,
      "outputs": [
        {
          "output_type": "execute_result",
          "data": {
            "text/plain": [
              "(22338, 10)"
            ]
          },
          "metadata": {},
          "execution_count": 35
        }
      ]
    },
    {
      "cell_type": "markdown",
      "metadata": {
        "id": "U1bnT4RH34xC"
      },
      "source": [
        "There are 22337 books that are classified as Fiction in this dataset"
      ]
    },
    {
      "cell_type": "code",
      "metadata": {
        "id": "4dSt3r4S4BYb"
      },
      "source": [
        "fic_gens = set()\n",
        "for i in range(len(fiction)):\n",
        "  for j in range(len(fiction['list_of_genres'][i])):\n",
        "      fic_gens.add(fiction['list_of_genres'][i][j])"
      ],
      "execution_count": 36,
      "outputs": []
    },
    {
      "cell_type": "code",
      "metadata": {
        "id": "xIp4cvcT4BYk"
      },
      "source": [
        "fic_gen_dict = {i:0 for i in fic_gens}\n",
        "\n",
        "for i in range(len(fiction)):\n",
        "    for j in range(len(fiction['list_of_genres'][i])):\n",
        "        fic_gen_dict[fiction['list_of_genres'][i][j]]+=1"
      ],
      "execution_count": 37,
      "outputs": []
    },
    {
      "cell_type": "code",
      "metadata": {
        "colab": {
          "base_uri": "https://localhost:8080/"
        },
        "id": "9ETe1Ryj4BYl",
        "outputId": "5510ceb6-be91-4fff-fd2d-d6ae723c6143"
      },
      "source": [
        "len(fic_gen_dict)"
      ],
      "execution_count": 38,
      "outputs": [
        {
          "output_type": "execute_result",
          "data": {
            "text/plain": [
              "605"
            ]
          },
          "metadata": {},
          "execution_count": 38
        }
      ]
    },
    {
      "cell_type": "markdown",
      "metadata": {
        "id": "XpL611SG3_zt"
      },
      "source": [
        "For the fictional books, there are 605 unique genres. The top 5 are as follows:"
      ]
    },
    {
      "cell_type": "code",
      "metadata": {
        "colab": {
          "base_uri": "https://localhost:8080/",
          "height": 204
        },
        "id": "T6cqaIAg4BYn",
        "outputId": "c7b07976-950e-4ed1-d26e-5c5e4d3b05f2"
      },
      "source": [
        "fic_gen_pd = pd.DataFrame.from_records(sorted(fic_gen_dict.items(), key = lambda x:x[1], reverse=True), \n",
        "                                     columns=['fiction genre', 'count'])\n",
        "fic_gen_pd.head()"
      ],
      "execution_count": 39,
      "outputs": [
        {
          "output_type": "execute_result",
          "data": {
            "text/html": [
              "<div>\n",
              "<style scoped>\n",
              "    .dataframe tbody tr th:only-of-type {\n",
              "        vertical-align: middle;\n",
              "    }\n",
              "\n",
              "    .dataframe tbody tr th {\n",
              "        vertical-align: top;\n",
              "    }\n",
              "\n",
              "    .dataframe thead th {\n",
              "        text-align: right;\n",
              "    }\n",
              "</style>\n",
              "<table border=\"1\" class=\"dataframe\">\n",
              "  <thead>\n",
              "    <tr style=\"text-align: right;\">\n",
              "      <th></th>\n",
              "      <th>fiction genre</th>\n",
              "      <th>count</th>\n",
              "    </tr>\n",
              "  </thead>\n",
              "  <tbody>\n",
              "    <tr>\n",
              "      <th>0</th>\n",
              "      <td>Fiction</td>\n",
              "      <td>22338</td>\n",
              "    </tr>\n",
              "    <tr>\n",
              "      <th>1</th>\n",
              "      <td>Fantasy</td>\n",
              "      <td>9971</td>\n",
              "    </tr>\n",
              "    <tr>\n",
              "      <th>2</th>\n",
              "      <td>Historical</td>\n",
              "      <td>7446</td>\n",
              "    </tr>\n",
              "    <tr>\n",
              "      <th>3</th>\n",
              "      <td>Mystery</td>\n",
              "      <td>5876</td>\n",
              "    </tr>\n",
              "    <tr>\n",
              "      <th>4</th>\n",
              "      <td>Young Adult</td>\n",
              "      <td>5095</td>\n",
              "    </tr>\n",
              "  </tbody>\n",
              "</table>\n",
              "</div>"
            ],
            "text/plain": [
              "  fiction genre  count\n",
              "0       Fiction  22338\n",
              "1       Fantasy   9971\n",
              "2    Historical   7446\n",
              "3       Mystery   5876\n",
              "4   Young Adult   5095"
            ]
          },
          "metadata": {},
          "execution_count": 39
        }
      ]
    },
    {
      "cell_type": "code",
      "metadata": {
        "colab": {
          "base_uri": "https://localhost:8080/"
        },
        "id": "jY1Kb--24-9K",
        "outputId": "2aeaaed8-a92c-4add-978a-6ee7dff1f8d3"
      },
      "source": [
        "nonfiction = data[data['label'] == 'Nonfiction'].reset_index()\n",
        "nonfiction.shape"
      ],
      "execution_count": 40,
      "outputs": [
        {
          "output_type": "execute_result",
          "data": {
            "text/plain": [
              "(7000, 10)"
            ]
          },
          "metadata": {},
          "execution_count": 40
        }
      ]
    },
    {
      "cell_type": "markdown",
      "metadata": {
        "id": "uNd1jhfa4Kf_"
      },
      "source": [
        "As for the Nonfiction, there are 7000 books that are classified in that genre"
      ]
    },
    {
      "cell_type": "code",
      "metadata": {
        "id": "qX3WiVaQ4-9Z"
      },
      "source": [
        "nonfic_gens = set()\n",
        "for i in range(len(nonfiction)):\n",
        "  for j in range(len(nonfiction['list_of_genres'][i])):\n",
        "      nonfic_gens.add(nonfiction['list_of_genres'][i][j])"
      ],
      "execution_count": 41,
      "outputs": []
    },
    {
      "cell_type": "code",
      "metadata": {
        "id": "BoevKxqN4-9b"
      },
      "source": [
        "nonfic_gen_dict = {i:0 for i in nonfic_gens}\n",
        "\n",
        "for i in range(len(nonfiction)):\n",
        "    for j in range(len(nonfiction['list_of_genres'][i])):\n",
        "        nonfic_gen_dict[nonfiction['list_of_genres'][i][j]]+=1"
      ],
      "execution_count": 42,
      "outputs": []
    },
    {
      "cell_type": "code",
      "metadata": {
        "colab": {
          "base_uri": "https://localhost:8080/"
        },
        "id": "yjf0tgJf4-9c",
        "outputId": "b1ce7da0-444c-40e8-e607-13ab18b17044"
      },
      "source": [
        "len(nonfic_gen_dict)"
      ],
      "execution_count": 43,
      "outputs": [
        {
          "output_type": "execute_result",
          "data": {
            "text/plain": [
              "565"
            ]
          },
          "metadata": {},
          "execution_count": 43
        }
      ]
    },
    {
      "cell_type": "markdown",
      "metadata": {
        "id": "q76mCuEN4XI6"
      },
      "source": [
        "There are 565 unique genres for the non-fictional books. The top 5 are as follows:"
      ]
    },
    {
      "cell_type": "code",
      "metadata": {
        "colab": {
          "base_uri": "https://localhost:8080/",
          "height": 204
        },
        "id": "PVWBmo0Y4-9d",
        "outputId": "ec619f74-f2dc-46e3-db6b-4222b5d70e77"
      },
      "source": [
        "nonfic_gen_pd = pd.DataFrame.from_records(sorted(nonfic_gen_dict.items(), key = lambda x:x[1], reverse=True), \n",
        "                                     columns=['nonfiction genre', 'count'])\n",
        "nonfic_gen_pd.head()"
      ],
      "execution_count": 44,
      "outputs": [
        {
          "output_type": "execute_result",
          "data": {
            "text/html": [
              "<div>\n",
              "<style scoped>\n",
              "    .dataframe tbody tr th:only-of-type {\n",
              "        vertical-align: middle;\n",
              "    }\n",
              "\n",
              "    .dataframe tbody tr th {\n",
              "        vertical-align: top;\n",
              "    }\n",
              "\n",
              "    .dataframe thead th {\n",
              "        text-align: right;\n",
              "    }\n",
              "</style>\n",
              "<table border=\"1\" class=\"dataframe\">\n",
              "  <thead>\n",
              "    <tr style=\"text-align: right;\">\n",
              "      <th></th>\n",
              "      <th>nonfiction genre</th>\n",
              "      <th>count</th>\n",
              "    </tr>\n",
              "  </thead>\n",
              "  <tbody>\n",
              "    <tr>\n",
              "      <th>0</th>\n",
              "      <td>Nonfiction</td>\n",
              "      <td>7000</td>\n",
              "    </tr>\n",
              "    <tr>\n",
              "      <th>1</th>\n",
              "      <td>Biography</td>\n",
              "      <td>2427</td>\n",
              "    </tr>\n",
              "    <tr>\n",
              "      <th>2</th>\n",
              "      <td>History</td>\n",
              "      <td>2350</td>\n",
              "    </tr>\n",
              "    <tr>\n",
              "      <th>3</th>\n",
              "      <td>Religion</td>\n",
              "      <td>1925</td>\n",
              "    </tr>\n",
              "    <tr>\n",
              "      <th>4</th>\n",
              "      <td>Autobiography</td>\n",
              "      <td>1913</td>\n",
              "    </tr>\n",
              "  </tbody>\n",
              "</table>\n",
              "</div>"
            ],
            "text/plain": [
              "  nonfiction genre  count\n",
              "0       Nonfiction   7000\n",
              "1        Biography   2427\n",
              "2          History   2350\n",
              "3         Religion   1925\n",
              "4    Autobiography   1913"
            ]
          },
          "metadata": {},
          "execution_count": 44
        }
      ]
    },
    {
      "cell_type": "markdown",
      "metadata": {
        "id": "TyZ_egv74l0R"
      },
      "source": [
        "Below are the distribution of genres for the fictional and non-fictional books"
      ]
    },
    {
      "cell_type": "code",
      "metadata": {
        "colab": {
          "base_uri": "https://localhost:8080/",
          "height": 698
        },
        "id": "fYVO7rHl4BYo",
        "outputId": "5ff9635b-cbe8-4a07-f8c8-8b95ff1b5712"
      },
      "source": [
        "fic_gen_50 = fic_gen_pd[1:51]\n",
        "\n",
        "plt.figure(figsize = (23,10))\n",
        "\n",
        "fic_gen_plot = sns.barplot(data = fic_gen_50, x = fic_gen_50['fiction genre'], y = fic_gen_50['count'], palette = 'RdYlBu')\n",
        "for p in fic_gen_plot.patches:\n",
        "    fic_gen_plot.annotate(format(p.get_height(), '.0f'), \n",
        "                   (p.get_x() + p.get_width() / 2., p.get_height()), \n",
        "                   ha = 'center', va = 'center', \n",
        "                   xytext = (0, 9), \n",
        "                   textcoords = 'offset points')\n",
        "plt.xticks(rotation=60)\n",
        "plt.title('Top 50 Fictional Genres')\n",
        "\n",
        "plt.show()"
      ],
      "execution_count": 45,
      "outputs": [
        {
          "output_type": "display_data",
          "data": {
            "image/png": "[encoded data removed]",
            "text/plain": [
              "<Figure size 1656x720 with 1 Axes>"
            ]
          },
          "metadata": {
            "needs_background": "light"
          }
        }
      ]
    },
    {
      "cell_type": "code",
      "metadata": {
        "colab": {
          "base_uri": "https://localhost:8080/",
          "height": 693
        },
        "id": "lk_VWvrx4-9e",
        "outputId": "a079265b-a482-405a-d94a-1472816df2d0"
      },
      "source": [
        "nonfic_gen_50 = nonfic_gen_pd[1:51]\n",
        "\n",
        "plt.figure(figsize = (23,10))\n",
        "\n",
        "nonfic_gen_plot = sns.barplot(data = nonfic_gen_50, x = nonfic_gen_50['nonfiction genre'], y = nonfic_gen_50['count'], palette = 'RdYlBu')\n",
        "for p in nonfic_gen_plot.patches:\n",
        "    nonfic_gen_plot.annotate(format(p.get_height(), '.0f'), \n",
        "                   (p.get_x() + p.get_width() / 2., p.get_height()), \n",
        "                   ha = 'center', va = 'center', \n",
        "                   xytext = (0, 9), \n",
        "                   textcoords = 'offset points')\n",
        "plt.xticks(rotation=60)\n",
        "plt.title('Top 50 Non-Fictional Genres')\n",
        "\n",
        "plt.show()"
      ],
      "execution_count": 46,
      "outputs": [
        {
          "output_type": "display_data",
          "data": {
            "image/png": "[encoded data removed]",
            "text/plain": [
              "<Figure size 1656x720 with 1 Axes>"
            ]
          },
          "metadata": {
            "needs_background": "light"
          }
        }
      ]
    },
    {
      "cell_type": "markdown",
      "metadata": {
        "id": "LQvgqOP34w5z"
      },
      "source": [
        "For the fictional books, the genre with the most book is Fantasy. As for the non-fictional books, it's Biography"
      ]
    },
    {
      "cell_type": "markdown",
      "metadata": {
        "id": "a_HtAbEP5Xxk"
      },
      "source": [
        "# Data Preprocessing"
      ]
    },
    {
      "cell_type": "markdown",
      "metadata": {
        "id": "AWoJGwQ-5Ehk"
      },
      "source": [
        "As mentioned before, the books that aren't labeled as Fiction or Nonfiction will be used for Model Inference. As for the books that are labeled, they will be used for model building"
      ]
    },
    {
      "cell_type": "code",
      "metadata": {
        "colab": {
          "base_uri": "https://localhost:8080/",
          "height": 374
        },
        "id": "NTmTlUPHSX8i",
        "outputId": "6e6e702b-5c06-4204-cccd-7d7494ca3f7f"
      },
      "source": [
        "data_model = data[data['label'] != 'Not Determined']\n",
        "data_model.head()"
      ],
      "execution_count": 47,
      "outputs": [
        {
          "output_type": "execute_result",
          "data": {
            "text/html": [
              "<div>\n",
              "<style scoped>\n",
              "    .dataframe tbody tr th:only-of-type {\n",
              "        vertical-align: middle;\n",
              "    }\n",
              "\n",
              "    .dataframe tbody tr th {\n",
              "        vertical-align: top;\n",
              "    }\n",
              "\n",
              "    .dataframe thead th {\n",
              "        text-align: right;\n",
              "    }\n",
              "</style>\n",
              "<table border=\"1\" class=\"dataframe\">\n",
              "  <thead>\n",
              "    <tr style=\"text-align: right;\">\n",
              "      <th></th>\n",
              "      <th>book_authors</th>\n",
              "      <th>book_title</th>\n",
              "      <th>book_desc</th>\n",
              "      <th>genres</th>\n",
              "      <th>language</th>\n",
              "      <th>language_name</th>\n",
              "      <th>num_of_genres</th>\n",
              "      <th>list_of_genres</th>\n",
              "      <th>label</th>\n",
              "    </tr>\n",
              "  </thead>\n",
              "  <tbody>\n",
              "    <tr>\n",
              "      <th>0</th>\n",
              "      <td>Suzanne Collins</td>\n",
              "      <td>The Hunger Games</td>\n",
              "      <td>Winning will make you famous. Losing means cer...</td>\n",
              "      <td>Young Adult|Fiction|Science Fiction|Dystopia|F...</td>\n",
              "      <td>en</td>\n",
              "      <td>English</td>\n",
              "      <td>6</td>\n",
              "      <td>[Young Adult, Fiction, Science Fiction, Dystop...</td>\n",
              "      <td>Fiction</td>\n",
              "    </tr>\n",
              "    <tr>\n",
              "      <th>1</th>\n",
              "      <td>J.K. Rowling|Mary GrandPré</td>\n",
              "      <td>Harry Potter and the Order of the Phoenix</td>\n",
              "      <td>There is a door at the end of a silent corrido...</td>\n",
              "      <td>Fantasy|Young Adult|Fiction</td>\n",
              "      <td>en</td>\n",
              "      <td>English</td>\n",
              "      <td>3</td>\n",
              "      <td>[Fantasy, Young Adult, Fiction]</td>\n",
              "      <td>Fiction</td>\n",
              "    </tr>\n",
              "    <tr>\n",
              "      <th>2</th>\n",
              "      <td>Harper Lee</td>\n",
              "      <td>To Kill a Mockingbird</td>\n",
              "      <td>The unforgettable novel of a childhood in a sl...</td>\n",
              "      <td>Classics|Fiction|Historical|Historical Fiction...</td>\n",
              "      <td>en</td>\n",
              "      <td>English</td>\n",
              "      <td>6</td>\n",
              "      <td>[Classics, Fiction, Historical, Historical Fic...</td>\n",
              "      <td>Fiction</td>\n",
              "    </tr>\n",
              "    <tr>\n",
              "      <th>3</th>\n",
              "      <td>Stephenie Meyer</td>\n",
              "      <td>Twilight</td>\n",
              "      <td>About three things I was absolutely positive.F...</td>\n",
              "      <td>Young Adult|Fantasy|Romance|Paranormal|Vampire...</td>\n",
              "      <td>en</td>\n",
              "      <td>English</td>\n",
              "      <td>8</td>\n",
              "      <td>[Young Adult, Fantasy, Romance, Paranormal, Va...</td>\n",
              "      <td>Fiction</td>\n",
              "    </tr>\n",
              "    <tr>\n",
              "      <th>4</th>\n",
              "      <td>Markus Zusak</td>\n",
              "      <td>The Book Thief</td>\n",
              "      <td>Trying to make sense of the horrors of World W...</td>\n",
              "      <td>Historical|Historical Fiction|Fiction|Young Adult</td>\n",
              "      <td>en</td>\n",
              "      <td>English</td>\n",
              "      <td>4</td>\n",
              "      <td>[Historical, Historical Fiction, Fiction, Youn...</td>\n",
              "      <td>Fiction</td>\n",
              "    </tr>\n",
              "  </tbody>\n",
              "</table>\n",
              "</div>"
            ],
            "text/plain": [
              "                 book_authors  ...    label\n",
              "0             Suzanne Collins  ...  Fiction\n",
              "1  J.K. Rowling|Mary GrandPré  ...  Fiction\n",
              "2                  Harper Lee  ...  Fiction\n",
              "3             Stephenie Meyer  ...  Fiction\n",
              "4                Markus Zusak  ...  Fiction\n",
              "\n",
              "[5 rows x 9 columns]"
            ]
          },
          "metadata": {},
          "execution_count": 47
        }
      ]
    },
    {
      "cell_type": "markdown",
      "metadata": {
        "id": "vpooBpwb5kS9"
      },
      "source": [
        "The labels will be encoded first, to make the next steps easier"
      ]
    },
    {
      "cell_type": "code",
      "metadata": {
        "colab": {
          "base_uri": "https://localhost:8080/",
          "height": 459
        },
        "id": "_EkA1QziVjov",
        "outputId": "c772e3df-0276-4a44-9850-8efe35ae38d2"
      },
      "source": [
        "data_model['label'].replace({'Fiction': 1,'Nonfiction': 0},inplace=True)\n",
        "data_model.head()"
      ],
      "execution_count": 48,
      "outputs": [
        {
          "output_type": "stream",
          "name": "stderr",
          "text": [
            "/usr/local/lib/python3.7/dist-packages/pandas/core/series.py:4582: SettingWithCopyWarning: \n",
            "A value is trying to be set on a copy of a slice from a DataFrame\n",
            "\n",
            "See the caveats in the documentation: https://pandas.pydata.org/pandas-docs/stable/user_guide/indexing.html#returning-a-view-versus-a-copy\n",
            "  method=method,\n"
          ]
        },
        {
          "output_type": "execute_result",
          "data": {
            "text/html": [
              "<div>\n",
              "<style scoped>\n",
              "    .dataframe tbody tr th:only-of-type {\n",
              "        vertical-align: middle;\n",
              "    }\n",
              "\n",
              "    .dataframe tbody tr th {\n",
              "        vertical-align: top;\n",
              "    }\n",
              "\n",
              "    .dataframe thead th {\n",
              "        text-align: right;\n",
              "    }\n",
              "</style>\n",
              "<table border=\"1\" class=\"dataframe\">\n",
              "  <thead>\n",
              "    <tr style=\"text-align: right;\">\n",
              "      <th></th>\n",
              "      <th>book_authors</th>\n",
              "      <th>book_title</th>\n",
              "      <th>book_desc</th>\n",
              "      <th>genres</th>\n",
              "      <th>language</th>\n",
              "      <th>language_name</th>\n",
              "      <th>num_of_genres</th>\n",
              "      <th>list_of_genres</th>\n",
              "      <th>label</th>\n",
              "    </tr>\n",
              "  </thead>\n",
              "  <tbody>\n",
              "    <tr>\n",
              "      <th>0</th>\n",
              "      <td>Suzanne Collins</td>\n",
              "      <td>The Hunger Games</td>\n",
              "      <td>Winning will make you famous. Losing means cer...</td>\n",
              "      <td>Young Adult|Fiction|Science Fiction|Dystopia|F...</td>\n",
              "      <td>en</td>\n",
              "      <td>English</td>\n",
              "      <td>6</td>\n",
              "      <td>[Young Adult, Fiction, Science Fiction, Dystop...</td>\n",
              "      <td>1</td>\n",
              "    </tr>\n",
              "    <tr>\n",
              "      <th>1</th>\n",
              "      <td>J.K. Rowling|Mary GrandPré</td>\n",
              "      <td>Harry Potter and the Order of the Phoenix</td>\n",
              "      <td>There is a door at the end of a silent corrido...</td>\n",
              "      <td>Fantasy|Young Adult|Fiction</td>\n",
              "      <td>en</td>\n",
              "      <td>English</td>\n",
              "      <td>3</td>\n",
              "      <td>[Fantasy, Young Adult, Fiction]</td>\n",
              "      <td>1</td>\n",
              "    </tr>\n",
              "    <tr>\n",
              "      <th>2</th>\n",
              "      <td>Harper Lee</td>\n",
              "      <td>To Kill a Mockingbird</td>\n",
              "      <td>The unforgettable novel of a childhood in a sl...</td>\n",
              "      <td>Classics|Fiction|Historical|Historical Fiction...</td>\n",
              "      <td>en</td>\n",
              "      <td>English</td>\n",
              "      <td>6</td>\n",
              "      <td>[Classics, Fiction, Historical, Historical Fic...</td>\n",
              "      <td>1</td>\n",
              "    </tr>\n",
              "    <tr>\n",
              "      <th>3</th>\n",
              "      <td>Stephenie Meyer</td>\n",
              "      <td>Twilight</td>\n",
              "      <td>About three things I was absolutely positive.F...</td>\n",
              "      <td>Young Adult|Fantasy|Romance|Paranormal|Vampire...</td>\n",
              "      <td>en</td>\n",
              "      <td>English</td>\n",
              "      <td>8</td>\n",
              "      <td>[Young Adult, Fantasy, Romance, Paranormal, Va...</td>\n",
              "      <td>1</td>\n",
              "    </tr>\n",
              "    <tr>\n",
              "      <th>4</th>\n",
              "      <td>Markus Zusak</td>\n",
              "      <td>The Book Thief</td>\n",
              "      <td>Trying to make sense of the horrors of World W...</td>\n",
              "      <td>Historical|Historical Fiction|Fiction|Young Adult</td>\n",
              "      <td>en</td>\n",
              "      <td>English</td>\n",
              "      <td>4</td>\n",
              "      <td>[Historical, Historical Fiction, Fiction, Youn...</td>\n",
              "      <td>1</td>\n",
              "    </tr>\n",
              "  </tbody>\n",
              "</table>\n",
              "</div>"
            ],
            "text/plain": [
              "                 book_authors  ... label\n",
              "0             Suzanne Collins  ...     1\n",
              "1  J.K. Rowling|Mary GrandPré  ...     1\n",
              "2                  Harper Lee  ...     1\n",
              "3             Stephenie Meyer  ...     1\n",
              "4                Markus Zusak  ...     1\n",
              "\n",
              "[5 rows x 9 columns]"
            ]
          },
          "metadata": {},
          "execution_count": 48
        }
      ]
    },
    {
      "cell_type": "code",
      "metadata": {
        "colab": {
          "base_uri": "https://localhost:8080/"
        },
        "id": "5VCvFec1VwL9",
        "outputId": "d550f9fb-e169-4064-e5fb-dca99f2d9096"
      },
      "source": [
        "t1 = data_model[data_model['label'] == 1]['genres'].count()\n",
        "t0 = data_model[data_model['label'] == 0]['genres'].count()\n",
        "length = len(data_model)\n",
        "\n",
        "print(f'Fiction   : {t1}  ({((t1/length)*100).round(3)} %)')\n",
        "print(f'Nonfiction: {t0} ({((t0/length)*100).round(3)} %)')"
      ],
      "execution_count": 49,
      "outputs": [
        {
          "output_type": "stream",
          "name": "stdout",
          "text": [
            "Fiction   : 22338  (76.14 %)\n",
            "Nonfiction: 7000 (23.86 %)\n"
          ]
        }
      ]
    },
    {
      "cell_type": "markdown",
      "metadata": {
        "id": "hjfCZcu55xrG"
      },
      "source": [
        "It can be seen that the data is imbalanced, but we will leave it be for now.\n",
        "\n",
        "Next, the description of the book needs to be cleaned. That means removing non-ascii characters, turn all letters into lowercase, replace shortened words with their formal form (for example: i'm will be turned into i am), filtering out punctuations, and removing numbers"
      ]
    },
    {
      "cell_type": "code",
      "metadata": {
        "id": "Dat8vFnqit1T"
      },
      "source": [
        "def _removeNonAscii(s): \n",
        "    return \"\".join(i for i in s if ord(i)<128)\n",
        "\n",
        "def clean_text(text):\n",
        "    text = text.lower()\n",
        "    text = re.sub(r\"what's\", \"what is \", text)\n",
        "    text = text.replace('(ap)', '')\n",
        "    text = re.sub(r\"\\'s\", \" is \", text)\n",
        "    text = re.sub(r\"\\'ve\", \" have \", text)\n",
        "    text = re.sub(r\"can't\", \"cannot \", text)\n",
        "    text = re.sub(r\"n't\", \" not \", text)\n",
        "    text = re.sub(r\"i'm\", \"i am \", text)\n",
        "    text = re.sub(r\"\\'re\", \" are \", text)\n",
        "    text = re.sub(r\"\\'d\", \" would \", text)\n",
        "    text = re.sub(r\"\\'ll\", \" will \", text)\n",
        "    text = re.sub(r'\\W+', ' ', text)\n",
        "    text = re.sub(r'\\s+', ' ', text)\n",
        "    text = re.sub(r\"\\\\\", \"\", text)\n",
        "    text = re.sub(r\"\\'\", \"\", text)    \n",
        "    text = re.sub(r\"\\\"\", \"\", text)\n",
        "    text = re.sub('[^a-zA-Z ?!]+', '', text)\n",
        "    text = _removeNonAscii(text)\n",
        "    text = text.strip()\n",
        "    return text\n",
        "\n",
        "def cleaner(df):\n",
        "    df['clean_desc'] = df['book_desc'].apply(clean_text)\n",
        "    return df"
      ],
      "execution_count": 50,
      "outputs": []
    },
    {
      "cell_type": "code",
      "metadata": {
        "id": "KbBiKtfdFbt0",
        "colab": {
          "base_uri": "https://localhost:8080/"
        },
        "outputId": "17dc0960-f2c9-4063-8515-57bc07d1d315"
      },
      "source": [
        "data_model = cleaner(data_model)"
      ],
      "execution_count": 51,
      "outputs": [
        {
          "output_type": "stream",
          "name": "stderr",
          "text": [
            "/usr/local/lib/python3.7/dist-packages/ipykernel_launcher.py:27: SettingWithCopyWarning: \n",
            "A value is trying to be set on a copy of a slice from a DataFrame.\n",
            "Try using .loc[row_indexer,col_indexer] = value instead\n",
            "\n",
            "See the caveats in the documentation: https://pandas.pydata.org/pandas-docs/stable/user_guide/indexing.html#returning-a-view-versus-a-copy\n"
          ]
        }
      ]
    },
    {
      "cell_type": "code",
      "metadata": {
        "colab": {
          "base_uri": "https://localhost:8080/",
          "height": 510
        },
        "id": "OmR-OOzxFmae",
        "outputId": "262e841c-7264-4678-9960-26d8a3aaafca"
      },
      "source": [
        "data_model.head()"
      ],
      "execution_count": 52,
      "outputs": [
        {
          "output_type": "execute_result",
          "data": {
            "text/html": [
              "<div>\n",
              "<style scoped>\n",
              "    .dataframe tbody tr th:only-of-type {\n",
              "        vertical-align: middle;\n",
              "    }\n",
              "\n",
              "    .dataframe tbody tr th {\n",
              "        vertical-align: top;\n",
              "    }\n",
              "\n",
              "    .dataframe thead th {\n",
              "        text-align: right;\n",
              "    }\n",
              "</style>\n",
              "<table border=\"1\" class=\"dataframe\">\n",
              "  <thead>\n",
              "    <tr style=\"text-align: right;\">\n",
              "      <th></th>\n",
              "      <th>book_authors</th>\n",
              "      <th>book_title</th>\n",
              "      <th>book_desc</th>\n",
              "      <th>genres</th>\n",
              "      <th>language</th>\n",
              "      <th>language_name</th>\n",
              "      <th>num_of_genres</th>\n",
              "      <th>list_of_genres</th>\n",
              "      <th>label</th>\n",
              "      <th>clean_desc</th>\n",
              "    </tr>\n",
              "  </thead>\n",
              "  <tbody>\n",
              "    <tr>\n",
              "      <th>0</th>\n",
              "      <td>Suzanne Collins</td>\n",
              "      <td>The Hunger Games</td>\n",
              "      <td>Winning will make you famous. Losing means cer...</td>\n",
              "      <td>Young Adult|Fiction|Science Fiction|Dystopia|F...</td>\n",
              "      <td>en</td>\n",
              "      <td>English</td>\n",
              "      <td>6</td>\n",
              "      <td>[Young Adult, Fiction, Science Fiction, Dystop...</td>\n",
              "      <td>1</td>\n",
              "      <td>winning will make you famous losing means cert...</td>\n",
              "    </tr>\n",
              "    <tr>\n",
              "      <th>1</th>\n",
              "      <td>J.K. Rowling|Mary GrandPré</td>\n",
              "      <td>Harry Potter and the Order of the Phoenix</td>\n",
              "      <td>There is a door at the end of a silent corrido...</td>\n",
              "      <td>Fantasy|Young Adult|Fiction</td>\n",
              "      <td>en</td>\n",
              "      <td>English</td>\n",
              "      <td>3</td>\n",
              "      <td>[Fantasy, Young Adult, Fiction]</td>\n",
              "      <td>1</td>\n",
              "      <td>there is a door at the end of a silent corrido...</td>\n",
              "    </tr>\n",
              "    <tr>\n",
              "      <th>2</th>\n",
              "      <td>Harper Lee</td>\n",
              "      <td>To Kill a Mockingbird</td>\n",
              "      <td>The unforgettable novel of a childhood in a sl...</td>\n",
              "      <td>Classics|Fiction|Historical|Historical Fiction...</td>\n",
              "      <td>en</td>\n",
              "      <td>English</td>\n",
              "      <td>6</td>\n",
              "      <td>[Classics, Fiction, Historical, Historical Fic...</td>\n",
              "      <td>1</td>\n",
              "      <td>the unforgettable novel of a childhood in a sl...</td>\n",
              "    </tr>\n",
              "    <tr>\n",
              "      <th>3</th>\n",
              "      <td>Stephenie Meyer</td>\n",
              "      <td>Twilight</td>\n",
              "      <td>About three things I was absolutely positive.F...</td>\n",
              "      <td>Young Adult|Fantasy|Romance|Paranormal|Vampire...</td>\n",
              "      <td>en</td>\n",
              "      <td>English</td>\n",
              "      <td>8</td>\n",
              "      <td>[Young Adult, Fantasy, Romance, Paranormal, Va...</td>\n",
              "      <td>1</td>\n",
              "      <td>about three things i was absolutely positive f...</td>\n",
              "    </tr>\n",
              "    <tr>\n",
              "      <th>4</th>\n",
              "      <td>Markus Zusak</td>\n",
              "      <td>The Book Thief</td>\n",
              "      <td>Trying to make sense of the horrors of World W...</td>\n",
              "      <td>Historical|Historical Fiction|Fiction|Young Adult</td>\n",
              "      <td>en</td>\n",
              "      <td>English</td>\n",
              "      <td>4</td>\n",
              "      <td>[Historical, Historical Fiction, Fiction, Youn...</td>\n",
              "      <td>1</td>\n",
              "      <td>trying to make sense of the horrors of world w...</td>\n",
              "    </tr>\n",
              "  </tbody>\n",
              "</table>\n",
              "</div>"
            ],
            "text/plain": [
              "                 book_authors  ...                                         clean_desc\n",
              "0             Suzanne Collins  ...  winning will make you famous losing means cert...\n",
              "1  J.K. Rowling|Mary GrandPré  ...  there is a door at the end of a silent corrido...\n",
              "2                  Harper Lee  ...  the unforgettable novel of a childhood in a sl...\n",
              "3             Stephenie Meyer  ...  about three things i was absolutely positive f...\n",
              "4                Markus Zusak  ...  trying to make sense of the horrors of world w...\n",
              "\n",
              "[5 rows x 10 columns]"
            ]
          },
          "metadata": {},
          "execution_count": 52
        }
      ]
    },
    {
      "cell_type": "code",
      "metadata": {
        "colab": {
          "base_uri": "https://localhost:8080/"
        },
        "id": "VpbOCKF7n1q1",
        "outputId": "3ce7dae9-6ef8-44ba-ea1c-604cc3b1b81e"
      },
      "source": [
        "print('Initial book description:\\n', data_model['book_desc'][0])\n",
        "print()\n",
        "print('Cleaned book description:\\n', data_model['clean_desc'][0])"
      ],
      "execution_count": 53,
      "outputs": [
        {
          "output_type": "stream",
          "name": "stdout",
          "text": [
            "Initial book description:\n",
            " Winning will make you famous. Losing means certain death.The nation of Panem, formed from a post-apocalyptic North America, is a country that consists of a wealthy Capitol region surrounded by 12 poorer districts. Early in its history, a rebellion led by a 13th district against the Capitol resulted in its destruction and the creation of an annual televised event known as the Hunger Games. In punishment, and as a reminder of the power and grace of the Capitol, each district must yield one boy and one girl between the ages of 12 and 18 through a lottery system to participate in the games. The 'tributes' are chosen during the annual Reaping and are forced to fight to the death, leaving only one survivor to claim victory.When 16-year-old Katniss's young sister, Prim, is selected as District 12's female representative, Katniss volunteers to take her place. She and her male counterpart Peeta, are pitted against bigger, stronger representatives, some of whom have trained for this their whole lives. , she sees it as a death sentence. But Katniss has been close to death before. For her, survival is second nature.\n",
            "\n",
            "Cleaned book description:\n",
            " winning will make you famous losing means certain death the nation of panem formed from a post apocalyptic north america is a country that consists of a wealthy capitol region surrounded by  poorer districts early in its history a rebellion led by a th district against the capitol resulted in its destruction and the creation of an annual televised event known as the hunger games in punishment and as a reminder of the power and grace of the capitol each district must yield one boy and one girl between the ages of  and  through a lottery system to participate in the games the tributes are chosen during the annual reaping and are forced to fight to the death leaving only one survivor to claim victory when  year old katniss is young sister prim is selected as district  is female representative katniss volunteers to take her place she and her male counterpart peeta are pitted against bigger stronger representatives some of whom have trained for this their whole lives she sees it as a death sentence but katniss has been close to death before for her survival is second nature\n"
          ]
        }
      ]
    },
    {
      "cell_type": "markdown",
      "metadata": {
        "id": "Rw9GD-SO7tCV"
      },
      "source": [
        "## Splitting Data"
      ]
    },
    {
      "cell_type": "markdown",
      "metadata": {
        "id": "Tm9M9E3Q7v-H"
      },
      "source": [
        "Next, the data will be split into training and validation data"
      ]
    },
    {
      "cell_type": "code",
      "metadata": {
        "id": "cEtmFNERWNll"
      },
      "source": [
        "X = data_model['clean_desc']\n",
        "y = data_model['label']"
      ],
      "execution_count": 54,
      "outputs": []
    },
    {
      "cell_type": "code",
      "metadata": {
        "id": "K-D25ICUX0Tp"
      },
      "source": [
        "X_train, X_val, y_train, y_val = train_test_split(X, y, test_size = 0.2, random_state = 42, shuffle=True, stratify = y)"
      ],
      "execution_count": 55,
      "outputs": []
    },
    {
      "cell_type": "code",
      "metadata": {
        "colab": {
          "base_uri": "https://localhost:8080/"
        },
        "id": "iEDiyc6vZg6S",
        "outputId": "4ca4241d-4f12-4a14-b13a-8cde387c2574"
      },
      "source": [
        "# Melihat hasil splitting data\n",
        "\n",
        "print('Precentage of data used for training data  :', '%.2f' % ((len(X_train)/len(X))*100), '%')\n",
        "print('Precentage of data used for validation data:', '%.2f' % ((len(X_val)/len(X))*100), '%')\n",
        "print()\n",
        "\n",
        "print('Amount of rows in training data  :', X_train.shape[0])\n",
        "print('Amount of rows in validation data:', X_val.shape[0])"
      ],
      "execution_count": 56,
      "outputs": [
        {
          "output_type": "stream",
          "name": "stdout",
          "text": [
            "Precentage of data used for training data  : 80.00 %\n",
            "Precentage of data used for validation data: 20.00 %\n",
            "\n",
            "Amount of rows in training data  : 23470\n",
            "Amount of rows in validation data: 5868\n"
          ]
        }
      ]
    },
    {
      "cell_type": "code",
      "metadata": {
        "colab": {
          "base_uri": "https://localhost:8080/"
        },
        "id": "sinBLrBzZo6d",
        "outputId": "3af0f5e8-7964-4c96-e890-1e8b8d4d443b"
      },
      "source": [
        "print('Precentage of Nonfiction book data')\n",
        "print()\n",
        "print('Initial dataset:', '%.3f' % ((sum(data_model['label'] == 0)/len(data_model['label']))*100), '%')\n",
        "print('Training data  :', '%.3f' % ((sum(y_train == 0)/len(y_train))*100), '%')\n",
        "print('Validation data:', '%.3f' % ((sum(y_val == 0)/len(y_val))*100), '%')"
      ],
      "execution_count": 57,
      "outputs": [
        {
          "output_type": "stream",
          "name": "stdout",
          "text": [
            "Precentage of Nonfiction book data\n",
            "\n",
            "Initial dataset: 23.860 %\n",
            "Training data  : 23.860 %\n",
            "Validation data: 23.858 %\n"
          ]
        }
      ]
    },
    {
      "cell_type": "markdown",
      "metadata": {
        "id": "Rf4NXDxO_Pnw"
      },
      "source": [
        "## Preprocessing Training Data"
      ]
    },
    {
      "cell_type": "markdown",
      "metadata": {
        "id": "_97tckZC8ToN"
      },
      "source": [
        "These is what's going to be done in the preprocessing stage:\n",
        "- **Removing stopwords**: Stopwords are often added to sentences to make them grammatically correct, for example, words such as a, is, an, the, and etc. These stopwords carry minimal to no importance and are available plenty on open texts, articles, comments etc. These should be removed so machine learning algorithms can better focus on words which define the meaning/idea of the text. We are using list from nltk.corpus and this list can further be enhanced by adding or removing custom words based on the situation at hand\n",
        "- **Splitting sentence into words with a tokenizer**: Tokenizers divide strings into lists of substrings. For example, tokenizers can be used to find the list of sentences or words in a string. \n",
        "- **Lemmatization**: Lemmatization is an advanced form of stemming. Stemming might not result in actual word, whereas lemmatization does conversion properly with the use of vocabulary, normally aiming to remove inflectional endings only and to return the base or dictionary form of a word, which is known as the lemma. For example, eating will be replaced by eat.\n",
        "\n",
        "[reference](https://towardsdatascience.com/nlp-building-text-cleanup-and-preprocessing-pipeline-eba4095245a0)"
      ]
    },
    {
      "cell_type": "code",
      "metadata": {
        "id": "jfXuEVFeqklC"
      },
      "source": [
        "X_train_trf = X_train.copy()"
      ],
      "execution_count": 58,
      "outputs": []
    },
    {
      "cell_type": "code",
      "metadata": {
        "colab": {
          "base_uri": "https://localhost:8080/"
        },
        "id": "5ptrcEFKNzko",
        "outputId": "30ff7342-f361-4fc5-96e9-7ced2d2062ea"
      },
      "source": [
        "# download stopwords\n",
        "nltk.download('stopwords')\n",
        "nltk.download('punkt')\n",
        "nltk.download('wordnet')"
      ],
      "execution_count": 59,
      "outputs": [
        {
          "output_type": "stream",
          "name": "stdout",
          "text": [
            "[nltk_data] Downloading package stopwords to /root/nltk_data...\n",
            "[nltk_data]   Package stopwords is already up-to-date!\n",
            "[nltk_data] Downloading package punkt to /root/nltk_data...\n",
            "[nltk_data]   Package punkt is already up-to-date!\n",
            "[nltk_data] Downloading package wordnet to /root/nltk_data...\n",
            "[nltk_data]   Package wordnet is already up-to-date!\n"
          ]
        },
        {
          "output_type": "execute_result",
          "data": {
            "text/plain": [
              "True"
            ]
          },
          "metadata": {},
          "execution_count": 59
        }
      ]
    },
    {
      "cell_type": "code",
      "metadata": {
        "id": "TMmr-3NwZ3Rr"
      },
      "source": [
        "x_tokenized = []\n",
        "stop_words = set(stopwords.words(\"english\"))\n",
        "tokenizer = RegexpTokenizer(r'\\w+')\n",
        "lemmatizer = WordNetLemmatizer()\n",
        "\n",
        "for x in X_train_trf.values:\n",
        "  tmp = []\n",
        "  sent_token = sent_tokenize(x)\n",
        "  for sents in sent_token:\n",
        "    word_token = tokenizer.tokenize(sents)\n",
        "    filtered = [w.strip() for w in word_token if w not in stop_words and len(w) > 1]\n",
        "    for words in filtered:\n",
        "      lemm = lemmatizer.lemmatize(words)\n",
        "      words = lemm\n",
        "    tmp.extend(filtered)\n",
        "  x_tokenized.append(tmp)"
      ],
      "execution_count": 60,
      "outputs": []
    },
    {
      "cell_type": "code",
      "metadata": {
        "colab": {
          "base_uri": "https://localhost:8080/",
          "height": 37
        },
        "id": "Nbu-SSHP5dL6",
        "outputId": "92f1cf13-26b7-4d14-9dfe-029c3ec86332"
      },
      "source": [
        "X_train_trf.values[0]"
      ],
      "execution_count": 61,
      "outputs": [
        {
          "output_type": "execute_result",
          "data": {
            "application/vnd.google.colaboratory.intrinsic+json": {
              "type": "string"
            },
            "text/plain": [
              "'these classic fairy tales have left an indelible mark on western culture a testament to the brilliance and skill of jacob and wilhelm grimm'"
            ]
          },
          "metadata": {},
          "execution_count": 61
        }
      ]
    },
    {
      "cell_type": "code",
      "metadata": {
        "colab": {
          "base_uri": "https://localhost:8080/"
        },
        "id": "XrL9nVOnYsx8",
        "outputId": "fa397334-76f0-4ded-e050-9a17ffd7063b"
      },
      "source": [
        "len(x_tokenized[0])"
      ],
      "execution_count": 62,
      "outputs": [
        {
          "output_type": "execute_result",
          "data": {
            "text/plain": [
              "14"
            ]
          },
          "metadata": {},
          "execution_count": 62
        }
      ]
    },
    {
      "cell_type": "markdown",
      "metadata": {
        "id": "2J_2R2di-YQX"
      },
      "source": [
        "The description above is now turned into a list of a few words as seen below\n",
        "\n",
        "Note: reshaping the list so it will be nicer to see"
      ]
    },
    {
      "cell_type": "code",
      "metadata": {
        "colab": {
          "base_uri": "https://localhost:8080/"
        },
        "id": "zBI5486K4iAd",
        "outputId": "321d288f-6f52-45a4-9cc7-61a111845148"
      },
      "source": [
        "np.reshape(x_tokenized[0], newshape = (1,len(x_tokenized[0])))"
      ],
      "execution_count": 63,
      "outputs": [
        {
          "output_type": "execute_result",
          "data": {
            "text/plain": [
              "array([['classic', 'fairy', 'tales', 'left', 'indelible', 'mark',\n",
              "        'western', 'culture', 'testament', 'brilliance', 'skill',\n",
              "        'jacob', 'wilhelm', 'grimm']], dtype='<U10')"
            ]
          },
          "metadata": {},
          "execution_count": 63
        }
      ]
    },
    {
      "cell_type": "markdown",
      "metadata": {
        "id": "l4Pt3Ssc_WdD"
      },
      "source": [
        "After the description of each book is split into words, the next step is to encode each word into numbers"
      ]
    },
    {
      "cell_type": "code",
      "metadata": {
        "id": "gS5pBEAU8K74"
      },
      "source": [
        "t = Tokenizer()\n",
        "t.fit_on_texts(x_tokenized)"
      ],
      "execution_count": 64,
      "outputs": []
    },
    {
      "cell_type": "code",
      "metadata": {
        "id": "wqbTlfEA8z3Z"
      },
      "source": [
        "X_train_seq = t.texts_to_sequences(x_tokenized)"
      ],
      "execution_count": 65,
      "outputs": []
    },
    {
      "cell_type": "code",
      "metadata": {
        "colab": {
          "base_uri": "https://localhost:8080/"
        },
        "id": "TQO3zkf_C5Dp",
        "outputId": "c0a70737-b240-465b-9d7f-06b399362158"
      },
      "source": [
        "np.reshape(X_train_seq[0], newshape = (1,len(x_tokenized[0])))"
      ],
      "execution_count": 66,
      "outputs": [
        {
          "output_type": "execute_result",
          "data": {
            "text/plain": [
              "array([[  104,   838,   307,   132,  4924,   692,   859,   353,  1909,\n",
              "         3548,  2054,  2776, 14773,  5819]])"
            ]
          },
          "metadata": {},
          "execution_count": 66
        }
      ]
    },
    {
      "cell_type": "code",
      "metadata": {
        "colab": {
          "base_uri": "https://localhost:8080/"
        },
        "id": "F9Ye3Ean8iH1",
        "outputId": "e568df72-d42c-4eb6-ed67-58d59f83529f"
      },
      "source": [
        "word_idx = t.word_index\n",
        "for word, idx in word_idx.items():\n",
        "    print(f\"{word}: {idx}\")\n",
        "    if idx == 5:\n",
        "        break"
      ],
      "execution_count": 67,
      "outputs": [
        {
          "output_type": "stream",
          "name": "stdout",
          "text": [
            "one: 1\n",
            "life: 2\n",
            "new: 3\n",
            "world: 4\n",
            "story: 5\n"
          ]
        }
      ]
    },
    {
      "cell_type": "markdown",
      "metadata": {
        "id": "eIWRvyh3_r-J"
      },
      "source": [
        "To make sure each book description has the same amount of words in its list, we will set the length to 1.5 times the mean of number of words in a book description after preprocessing. The number we get is 120. So if a length of a book description is more than that, it will be trimmed. If the length is shorter, we will fill the gap with paddings"
      ]
    },
    {
      "cell_type": "code",
      "metadata": {
        "id": "IIPDZOqG9T_x"
      },
      "source": [
        "tem = 0\n",
        "for i in range(len(X_train_seq)):\n",
        "    tem += len(X_train_seq[i])\n",
        "invec = int(1.5*tem/len(X_train_seq))"
      ],
      "execution_count": 68,
      "outputs": []
    },
    {
      "cell_type": "code",
      "metadata": {
        "colab": {
          "base_uri": "https://localhost:8080/"
        },
        "id": "gYf7Fid2CNLn",
        "outputId": "4aae7df6-286c-4ec3-a7b2-07cd6f554c65"
      },
      "source": [
        "invec"
      ],
      "execution_count": 69,
      "outputs": [
        {
          "output_type": "execute_result",
          "data": {
            "text/plain": [
              "120"
            ]
          },
          "metadata": {},
          "execution_count": 69
        }
      ]
    },
    {
      "cell_type": "code",
      "metadata": {
        "id": "14yjGYeQCN6B"
      },
      "source": [
        "X_train_pad = pad_sequences(X_train_seq, maxlen=invec)"
      ],
      "execution_count": 70,
      "outputs": []
    },
    {
      "cell_type": "code",
      "metadata": {
        "colab": {
          "base_uri": "https://localhost:8080/"
        },
        "id": "tBWJ5bHdBWf1",
        "outputId": "8f6f31b6-9e5b-43df-ecc7-42c1ea2a3583"
      },
      "source": [
        "np.reshape(X_train_seq[0], newshape = (1,len(x_tokenized[0])))"
      ],
      "execution_count": 71,
      "outputs": [
        {
          "output_type": "execute_result",
          "data": {
            "text/plain": [
              "array([[  104,   838,   307,   132,  4924,   692,   859,   353,  1909,\n",
              "         3548,  2054,  2776, 14773,  5819]])"
            ]
          },
          "metadata": {},
          "execution_count": 71
        }
      ]
    },
    {
      "cell_type": "code",
      "metadata": {
        "colab": {
          "base_uri": "https://localhost:8080/"
        },
        "id": "jawL-b1zBgmg",
        "outputId": "319e99f0-ffe4-48ab-8346-d765f02a98e9"
      },
      "source": [
        "len(X_train_seq[0])"
      ],
      "execution_count": 72,
      "outputs": [
        {
          "output_type": "execute_result",
          "data": {
            "text/plain": [
              "14"
            ]
          },
          "metadata": {},
          "execution_count": 72
        }
      ]
    },
    {
      "cell_type": "markdown",
      "metadata": {
        "id": "TMjxQ28bBmWC"
      },
      "source": [
        "In this case, the length of a book description is 14. That means we have to fill the remaining 116 spaces, to make it have a length of 120"
      ]
    },
    {
      "cell_type": "code",
      "metadata": {
        "colab": {
          "base_uri": "https://localhost:8080/"
        },
        "id": "UFIU3aoQC0Fb",
        "outputId": "4869355f-b968-4ed8-e1d1-be48b42f8899"
      },
      "source": [
        "X_train_pad[0]"
      ],
      "execution_count": 73,
      "outputs": [
        {
          "output_type": "execute_result",
          "data": {
            "text/plain": [
              "array([    0,     0,     0,     0,     0,     0,     0,     0,     0,\n",
              "           0,     0,     0,     0,     0,     0,     0,     0,     0,\n",
              "           0,     0,     0,     0,     0,     0,     0,     0,     0,\n",
              "           0,     0,     0,     0,     0,     0,     0,     0,     0,\n",
              "           0,     0,     0,     0,     0,     0,     0,     0,     0,\n",
              "           0,     0,     0,     0,     0,     0,     0,     0,     0,\n",
              "           0,     0,     0,     0,     0,     0,     0,     0,     0,\n",
              "           0,     0,     0,     0,     0,     0,     0,     0,     0,\n",
              "           0,     0,     0,     0,     0,     0,     0,     0,     0,\n",
              "           0,     0,     0,     0,     0,     0,     0,     0,     0,\n",
              "           0,     0,     0,     0,     0,     0,     0,     0,     0,\n",
              "           0,     0,     0,     0,     0,     0,     0,   104,   838,\n",
              "         307,   132,  4924,   692,   859,   353,  1909,  3548,  2054,\n",
              "        2776, 14773,  5819], dtype=int32)"
            ]
          },
          "metadata": {},
          "execution_count": 73
        }
      ]
    },
    {
      "cell_type": "code",
      "metadata": {
        "colab": {
          "base_uri": "https://localhost:8080/"
        },
        "id": "RdYkMNIqC1bx",
        "outputId": "c4ccb3f9-5179-4002-9ff7-f77499fb8596"
      },
      "source": [
        "len(X_train_pad[0])"
      ],
      "execution_count": 74,
      "outputs": [
        {
          "output_type": "execute_result",
          "data": {
            "text/plain": [
              "120"
            ]
          },
          "metadata": {},
          "execution_count": 74
        }
      ]
    },
    {
      "cell_type": "markdown",
      "metadata": {
        "id": "zeMc2TK6B8Cn"
      },
      "source": [
        "After that, we make a weight matrix using Word2Vec vector and keras tokenizer index. This will be used later in the model building section"
      ]
    },
    {
      "cell_type": "code",
      "metadata": {
        "id": "ucE-iDxPD9Ut"
      },
      "source": [
        "w2v_model = Word2Vec(sentences=x_tokenized, min_count=5, workers=4)"
      ],
      "execution_count": 75,
      "outputs": []
    },
    {
      "cell_type": "code",
      "metadata": {
        "colab": {
          "base_uri": "https://localhost:8080/"
        },
        "id": "GN4REhrNOobE",
        "outputId": "2110d220-c266-41d0-f370-d3b44b9c161c"
      },
      "source": [
        "word_index = t.word_index\n",
        "for word, num in word_index.items():\n",
        "    print(f\"{word}: {num}\")\n",
        "    if num == 5:\n",
        "        break"
      ],
      "execution_count": 76,
      "outputs": [
        {
          "output_type": "stream",
          "name": "stdout",
          "text": [
            "one: 1\n",
            "life: 2\n",
            "new: 3\n",
            "world: 4\n",
            "story: 5\n"
          ]
        }
      ]
    },
    {
      "cell_type": "code",
      "metadata": {
        "id": "R4BDuyYzDQPL"
      },
      "source": [
        "vocab_size = len(t.word_index) + 1\n",
        "\n",
        "def get_weight_matrix(model, vocab):\n",
        "    vocab_size = len(vocab) + 1\n",
        "    weight_matrix = np.zeros((vocab_size, w2v_model.vector_size))\n",
        "    for word, i in vocab.items():\n",
        "        if word not in model:\n",
        "            weight_matrix[i] = 0\n",
        "        else:\n",
        "            weight_matrix[i] = model[word]\n",
        "    return weight_matrix\n",
        "\n",
        "emvec = get_weight_matrix(w2v_model.wv, word_index)"
      ],
      "execution_count": 77,
      "outputs": []
    },
    {
      "cell_type": "markdown",
      "metadata": {
        "id": "Y5iNQxJUCbrT"
      },
      "source": [
        "Finally, to make the preprocessing step easier for validation data & model inference, all the steps that have been done on the training data will be compiled into one function"
      ]
    },
    {
      "cell_type": "code",
      "metadata": {
        "id": "7jBAu-z-WBV9"
      },
      "source": [
        "def tokenize_data(df):\n",
        "  x_tokenized = []\n",
        "  stop_words = set(stopwords.words(\"english\"))\n",
        "  tokenizer = RegexpTokenizer(r'\\w+')\n",
        "  lemmatizer = WordNetLemmatizer()\n",
        "\n",
        "  for x in df.values:\n",
        "    tmp = []\n",
        "    sent_token = sent_tokenize(x)\n",
        "    for sents in sent_token:\n",
        "      word_token = tokenizer.tokenize(sents)\n",
        "      filtered = [w.strip() for w in word_token if w not in stop_words and len(w) > 1]\n",
        "      for words in filtered:\n",
        "        lemm = lemmatizer.lemmatize(words)\n",
        "        words = lemm\n",
        "      tmp.extend(filtered)\n",
        "    x_tokenized.append(tmp)\n",
        "  return(x_tokenized)"
      ],
      "execution_count": 78,
      "outputs": []
    },
    {
      "cell_type": "code",
      "metadata": {
        "id": "tl3PGjCjFd52"
      },
      "source": [
        "def preprocess_data(data):\n",
        "  X_tok = tokenize_data(data)\n",
        "  X_seq = t.texts_to_sequences(X_tok)\n",
        "  X_pad = pad_sequences(X_seq, maxlen=invec)\n",
        "  return(X_pad)"
      ],
      "execution_count": 79,
      "outputs": []
    },
    {
      "cell_type": "markdown",
      "metadata": {
        "id": "tf7ZvjAsJ0Kq"
      },
      "source": [
        "## Preprocessing Validation Data"
      ]
    },
    {
      "cell_type": "markdown",
      "metadata": {
        "id": "my70wyekC61r"
      },
      "source": [
        "For the preprocessing of validation data, we will be using the function we've previously made"
      ]
    },
    {
      "cell_type": "code",
      "metadata": {
        "id": "0ofslPYFGWpU"
      },
      "source": [
        "X_val_pad = preprocess_data(X_val)"
      ],
      "execution_count": 80,
      "outputs": []
    },
    {
      "cell_type": "code",
      "metadata": {
        "colab": {
          "base_uri": "https://localhost:8080/"
        },
        "id": "gt1ax8uOGmy2",
        "outputId": "1759547e-0ca2-4474-9380-e97688987581"
      },
      "source": [
        "X_val_pad[0]"
      ],
      "execution_count": 81,
      "outputs": [
        {
          "output_type": "execute_result",
          "data": {
            "text/plain": [
              "array([    0,     0,     0,     0,     0,     0,     0,     0,     0,\n",
              "           0,     0,     0,     0,     0,     0,     0,     0,     0,\n",
              "           0,     0,     0,     0,     0,     0,     0,     0,     0,\n",
              "           0,     0,     0,     0,     0,     0,     0,     0,     0,\n",
              "           0,     0,     0,     0,     0,     0,     0,     0,     0,\n",
              "           0,     0,     0,     0,     0,     0,     0,     0,     0,\n",
              "           0,     0,     0,     0,     0,     0,     0,     0,     0,\n",
              "           0,     0,     0,     0,     0,     0,     0,     0,     0,\n",
              "           0,     0,     0,     0,     0,     0,     0,     0,     0,\n",
              "           0,     0,     0,     0,     0,     0,     0,     0,     0,\n",
              "           0,     0,     0,     0,     0,     0,     0, 11785,  7433,\n",
              "        7903,    51,   298,   373,   493,   702,    71,    33,   147,\n",
              "        7903,  2016,  2685, 22991,  3032,  6290, 39323, 45897, 25346,\n",
              "          98,     8,  2652], dtype=int32)"
            ]
          },
          "metadata": {},
          "execution_count": 81
        }
      ]
    },
    {
      "cell_type": "markdown",
      "metadata": {
        "id": "Tq4Ij2VcDHst"
      },
      "source": [
        "# Defining Model"
      ]
    },
    {
      "cell_type": "markdown",
      "metadata": {
        "id": "CxDXuOV6DSM3"
      },
      "source": [
        "For the model, we will be using an LTSM base model as a start, that consists of one embedding layer, one LSTM layer, a dropout layer, and a sigmoid layer to classify the book description as either fiction or nonfiction.\n",
        "\n",
        "- The embedding layer helps us reduce the dimensionality of the problem\n",
        "- The dropout layer prevents overfitting by ignoring randomly selected neurons during training\n",
        "\n",
        "For the activation and loss function, we will be using sigmoid and binary_crossentropy. Both of these are chosen because this is a binary classification problem\n"
      ]
    },
    {
      "cell_type": "code",
      "metadata": {
        "id": "geNb1sQObENG"
      },
      "source": [
        "tf.keras.backend.clear_session()\n",
        "\n",
        "model = Sequential()\n",
        "model.add(keras.layers.Embedding(vocab_size, output_dim=w2v_model.vector_size, weights=[emvec], input_length=invec, trainable=False))\n",
        "model.add(LSTM(64))\n",
        "model.add(Dropout(0.5))\n",
        "model.add(Dense(1, activation='sigmoid'))\n",
        "\n",
        "model.compile(optimizer = keras.optimizers.Adam(learning_rate=1e-3), loss = 'binary_crossentropy', metrics = ['accuracy'])"
      ],
      "execution_count": 82,
      "outputs": []
    },
    {
      "cell_type": "code",
      "metadata": {
        "colab": {
          "base_uri": "https://localhost:8080/",
          "height": 533
        },
        "id": "Ct_9ZcOFbTIj",
        "outputId": "248c6bb6-a8ac-4b72-d8b7-355bc5860d54"
      },
      "source": [
        "keras.utils.plot_model(model, show_shapes=True)"
      ],
      "execution_count": 83,
      "outputs": [
        {
          "output_type": "execute_result",
          "data": {
            "image/png": "[encoded data removed]",
            "text/plain": [
              "<IPython.core.display.Image object>"
            ]
          },
          "metadata": {},
          "execution_count": 83
        }
      ]
    },
    {
      "cell_type": "code",
      "metadata": {
        "colab": {
          "base_uri": "https://localhost:8080/"
        },
        "id": "ar6FIfFfbTIn",
        "outputId": "07fac47b-73a7-4a38-ca66-eea864c7c12e"
      },
      "source": [
        "model.summary()"
      ],
      "execution_count": 84,
      "outputs": [
        {
          "output_type": "stream",
          "name": "stdout",
          "text": [
            "Model: \"sequential\"\n",
            "_________________________________________________________________\n",
            "Layer (type)                 Output Shape              Param #   \n",
            "=================================================================\n",
            "embedding (Embedding)        (None, 120, 100)          7723300   \n",
            "_________________________________________________________________\n",
            "lstm (LSTM)                  (None, 64)                42240     \n",
            "_________________________________________________________________\n",
            "dropout (Dropout)            (None, 64)                0         \n",
            "_________________________________________________________________\n",
            "dense (Dense)                (None, 1)                 65        \n",
            "=================================================================\n",
            "Total params: 7,765,605\n",
            "Trainable params: 42,305\n",
            "Non-trainable params: 7,723,300\n",
            "_________________________________________________________________\n"
          ]
        }
      ]
    },
    {
      "cell_type": "code",
      "metadata": {
        "id": "0_htACD0bTIo"
      },
      "source": [
        "early_stop = EarlyStopping(monitor='val_loss', mode='min', verbose=1, patience=2)"
      ],
      "execution_count": 85,
      "outputs": []
    },
    {
      "cell_type": "markdown",
      "metadata": {
        "id": "YhN_lmi4Fjde"
      },
      "source": [
        "Early stopping will be used when no more progress is seen on the validation data, especially on the loss"
      ]
    },
    {
      "cell_type": "code",
      "metadata": {
        "colab": {
          "base_uri": "https://localhost:8080/"
        },
        "id": "ji4XjUfnbTIp",
        "outputId": "2315e51a-7e7c-4fe6-e860-f1885521859e"
      },
      "source": [
        "history = model.fit(X_train_pad, y_train, epochs=5, verbose = 1, batch_size = 50,\n",
        "                    validation_data = (X_val_pad, y_val), callbacks=[early_stop])"
      ],
      "execution_count": 86,
      "outputs": [
        {
          "output_type": "stream",
          "name": "stdout",
          "text": [
            "Epoch 1/5\n",
            "470/470 [==============================] - 46s 93ms/step - loss: 0.3172 - accuracy: 0.8732 - val_loss: 0.2605 - val_accuracy: 0.8942\n",
            "Epoch 2/5\n",
            "470/470 [==============================] - 54s 114ms/step - loss: 0.2435 - accuracy: 0.9027 - val_loss: 0.2591 - val_accuracy: 0.8984\n",
            "Epoch 3/5\n",
            "470/470 [==============================] - 59s 124ms/step - loss: 0.2203 - accuracy: 0.9142 - val_loss: 0.2417 - val_accuracy: 0.9099\n",
            "Epoch 4/5\n",
            "470/470 [==============================] - 47s 99ms/step - loss: 0.2093 - accuracy: 0.9170 - val_loss: 0.2239 - val_accuracy: 0.9093\n",
            "Epoch 5/5\n",
            "470/470 [==============================] - 45s 96ms/step - loss: 0.1973 - accuracy: 0.9213 - val_loss: 0.2070 - val_accuracy: 0.9211\n"
          ]
        }
      ]
    },
    {
      "cell_type": "code",
      "metadata": {
        "colab": {
          "base_uri": "https://localhost:8080/",
          "height": 320
        },
        "id": "9JKBQ-23bTIq",
        "outputId": "71340731-528c-4336-8b05-de961b95a5b4"
      },
      "source": [
        "pd.DataFrame(history.history).plot(figsize=(8, 5))\n",
        "plt.grid(True)\n",
        "plt.gca()\n",
        "plt.show()"
      ],
      "execution_count": 87,
      "outputs": [
        {
          "output_type": "display_data",
          "data": {
            "image/png": "[encoded data removed]",
            "text/plain": [
              "<Figure size 576x360 with 1 Axes>"
            ]
          },
          "metadata": {
            "needs_background": "light"
          }
        }
      ]
    },
    {
      "cell_type": "markdown",
      "metadata": {
        "id": "0vkRUrEeGCJT"
      },
      "source": [
        "From the accuracy of training and validation data, it can be seen that the model doesn't appear to be overfitted"
      ]
    },
    {
      "cell_type": "code",
      "metadata": {
        "colab": {
          "base_uri": "https://localhost:8080/"
        },
        "id": "BST7Z4ATbTIs",
        "outputId": "f46201e8-07a3-4adc-b122-b2d887b382d2"
      },
      "source": [
        "model.evaluate(X_val_pad,y_val)"
      ],
      "execution_count": 88,
      "outputs": [
        {
          "output_type": "stream",
          "name": "stdout",
          "text": [
            "184/184 [==============================] - 5s 24ms/step - loss: 0.2070 - accuracy: 0.9211\n"
          ]
        },
        {
          "output_type": "execute_result",
          "data": {
            "text/plain": [
              "[0.2070159763097763, 0.921097457408905]"
            ]
          },
          "metadata": {},
          "execution_count": 88
        }
      ]
    },
    {
      "cell_type": "code",
      "metadata": {
        "id": "RP6rJtaObTIs"
      },
      "source": [
        "pred = model.predict(X_val_pad)\n",
        "y_pred_model = []\n",
        "for element in pred:\n",
        "    if element > 0.5:\n",
        "        y_pred_model.append(1)\n",
        "    else :\n",
        "        y_pred_model.append(0)"
      ],
      "execution_count": 89,
      "outputs": []
    },
    {
      "cell_type": "code",
      "metadata": {
        "colab": {
          "base_uri": "https://localhost:8080/"
        },
        "id": "sssmHeKDbTIu",
        "outputId": "fbde5db1-ad15-489b-fd88-97641e72639a"
      },
      "source": [
        "print(classification_report(y_val, y_pred_model))"
      ],
      "execution_count": 90,
      "outputs": [
        {
          "output_type": "stream",
          "name": "stdout",
          "text": [
            "              precision    recall  f1-score   support\n",
            "\n",
            "           0       0.85      0.81      0.83      1400\n",
            "           1       0.94      0.96      0.95      4468\n",
            "\n",
            "    accuracy                           0.92      5868\n",
            "   macro avg       0.90      0.88      0.89      5868\n",
            "weighted avg       0.92      0.92      0.92      5868\n",
            "\n"
          ]
        }
      ]
    },
    {
      "cell_type": "markdown",
      "metadata": {
        "id": "3qZMWJKkGOUe"
      },
      "source": [
        "The performance of this model is already really good, with a 92% accuracy. The precision and recall of the Nonfiction classification are also pretty good, considering the data is imbalanced. Next, we will see if we can improve the model even more"
      ]
    },
    {
      "cell_type": "markdown",
      "metadata": {
        "id": "hkw2mcEnGziF"
      },
      "source": [
        "# Model Improvement"
      ]
    },
    {
      "cell_type": "markdown",
      "metadata": {
        "id": "MvwCLH3WG1et"
      },
      "source": [
        "In this part, we will see if adding another LTSM layer will improve the model or not"
      ]
    },
    {
      "cell_type": "code",
      "metadata": {
        "id": "5Xe_U5pQLtac"
      },
      "source": [
        "tf.keras.backend.clear_session()\n",
        "\n",
        "model2 = Sequential()\n",
        "model2.add(keras.layers.Embedding(vocab_size, output_dim=w2v_model.vector_size, weights=[emvec], input_length=invec, trainable=False))\n",
        "model2.add(LSTM(120, return_sequences=True))\n",
        "model2.add(Dropout(0.2))\n",
        "model2.add(LSTM(64))\n",
        "model2.add(Dense(1, activation='sigmoid'))\n",
        "\n",
        "model2.compile(optimizer = keras.optimizers.Adam(learning_rate=1e-3), loss = 'binary_crossentropy', metrics = ['accuracy'])"
      ],
      "execution_count": 91,
      "outputs": []
    },
    {
      "cell_type": "code",
      "metadata": {
        "colab": {
          "base_uri": "https://localhost:8080/",
          "height": 644
        },
        "id": "qM4K-D6RNTQz",
        "outputId": "20c15dba-5b38-4073-f592-b01ce9d65832"
      },
      "source": [
        "keras.utils.plot_model(model2, show_shapes=True)"
      ],
      "execution_count": 92,
      "outputs": [
        {
          "output_type": "execute_result",
          "data": {
            "image/png": "[encoded data removed]",
            "text/plain": [
              "<IPython.core.display.Image object>"
            ]
          },
          "metadata": {},
          "execution_count": 92
        }
      ]
    },
    {
      "cell_type": "code",
      "metadata": {
        "colab": {
          "base_uri": "https://localhost:8080/"
        },
        "id": "g67S8utONbHb",
        "outputId": "46766560-3c5d-451f-cb4e-db48ec0f481d"
      },
      "source": [
        "model2.summary()"
      ],
      "execution_count": 93,
      "outputs": [
        {
          "output_type": "stream",
          "name": "stdout",
          "text": [
            "Model: \"sequential\"\n",
            "_________________________________________________________________\n",
            "Layer (type)                 Output Shape              Param #   \n",
            "=================================================================\n",
            "embedding (Embedding)        (None, 120, 100)          7723300   \n",
            "_________________________________________________________________\n",
            "lstm (LSTM)                  (None, 120, 120)          106080    \n",
            "_________________________________________________________________\n",
            "dropout (Dropout)            (None, 120, 120)          0         \n",
            "_________________________________________________________________\n",
            "lstm_1 (LSTM)                (None, 64)                47360     \n",
            "_________________________________________________________________\n",
            "dense (Dense)                (None, 1)                 65        \n",
            "=================================================================\n",
            "Total params: 7,876,805\n",
            "Trainable params: 153,505\n",
            "Non-trainable params: 7,723,300\n",
            "_________________________________________________________________\n"
          ]
        }
      ]
    },
    {
      "cell_type": "code",
      "metadata": {
        "colab": {
          "base_uri": "https://localhost:8080/"
        },
        "id": "Qr5zV1gkNkX4",
        "outputId": "5dc2e654-f0ad-4117-80cc-eac603b908ef"
      },
      "source": [
        "history = model2.fit(X_train_pad, y_train, epochs=5, verbose = 1, batch_size = 50,\n",
        "                    validation_data = (X_val_pad, y_val), callbacks=[early_stop])"
      ],
      "execution_count": 94,
      "outputs": [
        {
          "output_type": "stream",
          "name": "stdout",
          "text": [
            "Epoch 1/5\n",
            "470/470 [==============================] - 147s 304ms/step - loss: 0.3026 - accuracy: 0.8717 - val_loss: 0.2507 - val_accuracy: 0.8923\n",
            "Epoch 2/5\n",
            "470/470 [==============================] - 143s 305ms/step - loss: 0.2344 - accuracy: 0.9025 - val_loss: 0.2472 - val_accuracy: 0.9013\n",
            "Epoch 3/5\n",
            "470/470 [==============================] - 132s 280ms/step - loss: 0.2152 - accuracy: 0.9160 - val_loss: 0.2189 - val_accuracy: 0.9112\n",
            "Epoch 4/5\n",
            "470/470 [==============================] - 131s 280ms/step - loss: 0.1978 - accuracy: 0.9207 - val_loss: 0.2233 - val_accuracy: 0.9141\n",
            "Epoch 5/5\n",
            "470/470 [==============================] - 133s 282ms/step - loss: 0.1827 - accuracy: 0.9257 - val_loss: 0.2015 - val_accuracy: 0.9208\n"
          ]
        }
      ]
    },
    {
      "cell_type": "code",
      "metadata": {
        "id": "1INoNvuROYUU",
        "colab": {
          "base_uri": "https://localhost:8080/",
          "height": 320
        },
        "outputId": "c61dad66-5a6b-4aba-a903-fe072fe921dc"
      },
      "source": [
        "pd.DataFrame(history.history).plot(figsize=(8, 5))\n",
        "plt.grid(True)\n",
        "plt.gca()\n",
        "plt.show()"
      ],
      "execution_count": 95,
      "outputs": [
        {
          "output_type": "display_data",
          "data": {
            "image/png": "[encoded data removed]",
            "text/plain": [
              "<Figure size 576x360 with 1 Axes>"
            ]
          },
          "metadata": {
            "needs_background": "light"
          }
        }
      ]
    },
    {
      "cell_type": "code",
      "metadata": {
        "id": "m8inIELmSbXG",
        "colab": {
          "base_uri": "https://localhost:8080/"
        },
        "outputId": "e367d517-4ed3-4911-dc68-b0a9a391b487"
      },
      "source": [
        "model2.evaluate(X_val_pad,y_val)"
      ],
      "execution_count": 96,
      "outputs": [
        {
          "output_type": "stream",
          "name": "stdout",
          "text": [
            "184/184 [==============================] - 12s 65ms/step - loss: 0.2015 - accuracy: 0.9208\n"
          ]
        },
        {
          "output_type": "execute_result",
          "data": {
            "text/plain": [
              "[0.2014838606119156, 0.9207566380500793]"
            ]
          },
          "metadata": {},
          "execution_count": 96
        }
      ]
    },
    {
      "cell_type": "code",
      "metadata": {
        "id": "yKeCxHUvSe7S"
      },
      "source": [
        "pred = model2.predict(X_val_pad)\n",
        "y_pred_model2 = []\n",
        "for element in pred:\n",
        "    if element > 0.5:\n",
        "        y_pred_model2.append(1)\n",
        "    else :\n",
        "        y_pred_model2.append(0)"
      ],
      "execution_count": 97,
      "outputs": []
    },
    {
      "cell_type": "code",
      "metadata": {
        "colab": {
          "base_uri": "https://localhost:8080/"
        },
        "id": "zQxTzUf-Stt9",
        "outputId": "6604f9b7-fa10-422b-9ccd-d7a218c87b4d"
      },
      "source": [
        "print(classification_report(y_val, y_pred_model2))"
      ],
      "execution_count": 98,
      "outputs": [
        {
          "output_type": "stream",
          "name": "stdout",
          "text": [
            "              precision    recall  f1-score   support\n",
            "\n",
            "           0       0.86      0.80      0.83      1400\n",
            "           1       0.94      0.96      0.95      4468\n",
            "\n",
            "    accuracy                           0.92      5868\n",
            "   macro avg       0.90      0.88      0.89      5868\n",
            "weighted avg       0.92      0.92      0.92      5868\n",
            "\n"
          ]
        }
      ]
    },
    {
      "cell_type": "markdown",
      "metadata": {
        "id": "r3os2mqcH8ru"
      },
      "source": [
        "We will also see whether changing up the epoch number will make a difference in performance or not"
      ]
    },
    {
      "cell_type": "code",
      "metadata": {
        "id": "virTaz0XH9HP"
      },
      "source": [
        "tf.keras.backend.clear_session()\n",
        "\n",
        "model3 = Sequential()\n",
        "model3.add(keras.layers.Embedding(vocab_size, output_dim=w2v_model.vector_size, weights=[emvec], input_length=invec, trainable=False))\n",
        "model3.add(LSTM(120, return_sequences=True))\n",
        "model3.add(Dropout(0.2))\n",
        "model3.add(LSTM(64))\n",
        "model3.add(Dense(1, activation='sigmoid'))\n",
        "\n",
        "model3.compile(optimizer = keras.optimizers.Adam(learning_rate=1e-3), loss = 'binary_crossentropy', metrics = ['accuracy'])"
      ],
      "execution_count": 99,
      "outputs": []
    },
    {
      "cell_type": "code",
      "metadata": {
        "colab": {
          "base_uri": "https://localhost:8080/",
          "height": 644
        },
        "id": "dpIhOWOlH9HS",
        "outputId": "6e7fcb7f-e459-4cbd-dc33-d241c8fb6fad"
      },
      "source": [
        "keras.utils.plot_model(model3, show_shapes=True)"
      ],
      "execution_count": 100,
      "outputs": [
        {
          "output_type": "execute_result",
          "data": {
            "image/png": "[encoded data removed]",
            "text/plain": [
              "<IPython.core.display.Image object>"
            ]
          },
          "metadata": {},
          "execution_count": 100
        }
      ]
    },
    {
      "cell_type": "code",
      "metadata": {
        "colab": {
          "base_uri": "https://localhost:8080/"
        },
        "id": "aNdKl5DrH9HU",
        "outputId": "11475327-2d7b-4d95-b2b7-a555c4b62eb3"
      },
      "source": [
        "model3.summary()"
      ],
      "execution_count": 101,
      "outputs": [
        {
          "output_type": "stream",
          "name": "stdout",
          "text": [
            "Model: \"sequential\"\n",
            "_________________________________________________________________\n",
            "Layer (type)                 Output Shape              Param #   \n",
            "=================================================================\n",
            "embedding (Embedding)        (None, 120, 100)          7723300   \n",
            "_________________________________________________________________\n",
            "lstm (LSTM)                  (None, 120, 120)          106080    \n",
            "_________________________________________________________________\n",
            "dropout (Dropout)            (None, 120, 120)          0         \n",
            "_________________________________________________________________\n",
            "lstm_1 (LSTM)                (None, 64)                47360     \n",
            "_________________________________________________________________\n",
            "dense (Dense)                (None, 1)                 65        \n",
            "=================================================================\n",
            "Total params: 7,876,805\n",
            "Trainable params: 153,505\n",
            "Non-trainable params: 7,723,300\n",
            "_________________________________________________________________\n"
          ]
        }
      ]
    },
    {
      "cell_type": "code",
      "metadata": {
        "colab": {
          "base_uri": "https://localhost:8080/"
        },
        "id": "cAZhua4kH9HV",
        "outputId": "31d9f309-6181-4cf2-adf8-32f64531056d"
      },
      "source": [
        "history = model3.fit(X_train_pad, y_train, epochs=8, verbose = 1, batch_size = 50,\n",
        "                    validation_data = (X_val_pad, y_val), callbacks=[early_stop])"
      ],
      "execution_count": 103,
      "outputs": [
        {
          "output_type": "stream",
          "name": "stdout",
          "text": [
            "Epoch 1/8\n",
            "470/470 [==============================] - 147s 312ms/step - loss: 0.2850 - accuracy: 0.8837 - val_loss: 0.2405 - val_accuracy: 0.9006\n",
            "Epoch 2/8\n",
            "470/470 [==============================] - 132s 282ms/step - loss: 0.2361 - accuracy: 0.9031 - val_loss: 0.2266 - val_accuracy: 0.9105\n",
            "Epoch 3/8\n",
            "470/470 [==============================] - 132s 282ms/step - loss: 0.2095 - accuracy: 0.9168 - val_loss: 0.2117 - val_accuracy: 0.9179\n",
            "Epoch 4/8\n",
            "470/470 [==============================] - 135s 287ms/step - loss: 0.1929 - accuracy: 0.9233 - val_loss: 0.2038 - val_accuracy: 0.9218\n",
            "Epoch 5/8\n",
            "470/470 [==============================] - 128s 272ms/step - loss: 0.1801 - accuracy: 0.9280 - val_loss: 0.2307 - val_accuracy: 0.9194\n",
            "Epoch 6/8\n",
            "470/470 [==============================] - 131s 278ms/step - loss: 0.1674 - accuracy: 0.9339 - val_loss: 0.1990 - val_accuracy: 0.9228\n",
            "Epoch 7/8\n",
            "470/470 [==============================] - 142s 303ms/step - loss: 0.1556 - accuracy: 0.9376 - val_loss: 0.2022 - val_accuracy: 0.9252\n",
            "Epoch 8/8\n",
            "470/470 [==============================] - 149s 317ms/step - loss: 0.1438 - accuracy: 0.9432 - val_loss: 0.2134 - val_accuracy: 0.9185\n",
            "Epoch 00008: early stopping\n"
          ]
        }
      ]
    },
    {
      "cell_type": "code",
      "metadata": {
        "colab": {
          "base_uri": "https://localhost:8080/",
          "height": 320
        },
        "id": "1hbGgz_jH9HW",
        "outputId": "cd1ba0ea-241e-4106-d1d8-f693e7cdb375"
      },
      "source": [
        "pd.DataFrame(history.history).plot(figsize=(8, 5))\n",
        "plt.grid(True)\n",
        "plt.gca()\n",
        "plt.show()"
      ],
      "execution_count": 104,
      "outputs": [
        {
          "output_type": "display_data",
          "data": {
            "image/png": "[encoded data removed]",
            "text/plain": [
              "<Figure size 576x360 with 1 Axes>"
            ]
          },
          "metadata": {
            "needs_background": "light"
          }
        }
      ]
    },
    {
      "cell_type": "code",
      "metadata": {
        "colab": {
          "base_uri": "https://localhost:8080/"
        },
        "id": "uR-CSa0PH9HX",
        "outputId": "190223fd-90b4-4c10-db33-f74fe9106fda"
      },
      "source": [
        "model3.evaluate(X_val_pad,y_val)"
      ],
      "execution_count": 105,
      "outputs": [
        {
          "output_type": "stream",
          "name": "stdout",
          "text": [
            "184/184 [==============================] - 13s 68ms/step - loss: 0.2134 - accuracy: 0.9185\n"
          ]
        },
        {
          "output_type": "execute_result",
          "data": {
            "text/plain": [
              "[0.21337354183197021, 0.9185412526130676]"
            ]
          },
          "metadata": {},
          "execution_count": 105
        }
      ]
    },
    {
      "cell_type": "code",
      "metadata": {
        "id": "8mSLgDtsH9HZ"
      },
      "source": [
        "pred = model3.predict(X_val_pad)\n",
        "y_pred_model3 = []\n",
        "for element in pred:\n",
        "    if element > 0.5:\n",
        "        y_pred_model3.append(1)\n",
        "    else :\n",
        "        y_pred_model3.append(0)"
      ],
      "execution_count": 106,
      "outputs": []
    },
    {
      "cell_type": "code",
      "metadata": {
        "colab": {
          "base_uri": "https://localhost:8080/"
        },
        "id": "BobfI5IzH9Ha",
        "outputId": "0bb833bd-0fbe-45ec-eaef-00841e3d1cb9"
      },
      "source": [
        "print(classification_report(y_val, y_pred_model3))"
      ],
      "execution_count": 107,
      "outputs": [
        {
          "output_type": "stream",
          "name": "stdout",
          "text": [
            "              precision    recall  f1-score   support\n",
            "\n",
            "           0       0.84      0.81      0.83      1400\n",
            "           1       0.94      0.95      0.95      4468\n",
            "\n",
            "    accuracy                           0.92      5868\n",
            "   macro avg       0.89      0.88      0.89      5868\n",
            "weighted avg       0.92      0.92      0.92      5868\n",
            "\n"
          ]
        }
      ]
    },
    {
      "cell_type": "markdown",
      "metadata": {
        "id": "x8dDq26kHBQ_"
      },
      "source": [
        "# Model Evaluation"
      ]
    },
    {
      "cell_type": "code",
      "metadata": {
        "id": "1UqRrZhRHAQX",
        "colab": {
          "base_uri": "https://localhost:8080/"
        },
        "outputId": "d3d40f4d-dc41-4611-8fc1-92288e24f159"
      },
      "source": [
        "print('1 LTSM Layer')\n",
        "print('Confusion Matrix:')\n",
        "print(confusion_matrix(y_val, y_pred_model))\n",
        "print()\n",
        "print(classification_report(y_val, y_pred_model))\n",
        "print('-'*35)\n",
        "\n",
        "print('2 LTSM Layers (5 epochs)')\n",
        "print('Confusion Matrix:')\n",
        "print(confusion_matrix(y_val, y_pred_model2))\n",
        "print()\n",
        "print(classification_report(y_val, y_pred_model2))\n",
        "print('-'*35)\n",
        "\n",
        "print('2 LTSM Layers (8 epochs)')\n",
        "print('Confusion Matrix:')\n",
        "print(confusion_matrix(y_val, y_pred_model3))\n",
        "print()\n",
        "print(classification_report(y_val, y_pred_model3))"
      ],
      "execution_count": 108,
      "outputs": [
        {
          "output_type": "stream",
          "name": "stdout",
          "text": [
            "1 LTSM Layer\n",
            "Confusion Matrix:\n",
            "[[1132  268]\n",
            " [ 195 4273]]\n",
            "\n",
            "              precision    recall  f1-score   support\n",
            "\n",
            "           0       0.85      0.81      0.83      1400\n",
            "           1       0.94      0.96      0.95      4468\n",
            "\n",
            "    accuracy                           0.92      5868\n",
            "   macro avg       0.90      0.88      0.89      5868\n",
            "weighted avg       0.92      0.92      0.92      5868\n",
            "\n",
            "-----------------------------------\n",
            "2 LTSM Layers (5 epochs)\n",
            "Confusion Matrix:\n",
            "[[1114  286]\n",
            " [ 179 4289]]\n",
            "\n",
            "              precision    recall  f1-score   support\n",
            "\n",
            "           0       0.86      0.80      0.83      1400\n",
            "           1       0.94      0.96      0.95      4468\n",
            "\n",
            "    accuracy                           0.92      5868\n",
            "   macro avg       0.90      0.88      0.89      5868\n",
            "weighted avg       0.92      0.92      0.92      5868\n",
            "\n",
            "-----------------------------------\n",
            "2 LTSM Layers (8 epochs)\n",
            "Confusion Matrix:\n",
            "[[1138  262]\n",
            " [ 216 4252]]\n",
            "\n",
            "              precision    recall  f1-score   support\n",
            "\n",
            "           0       0.84      0.81      0.83      1400\n",
            "           1       0.94      0.95      0.95      4468\n",
            "\n",
            "    accuracy                           0.92      5868\n",
            "   macro avg       0.89      0.88      0.89      5868\n",
            "weighted avg       0.92      0.92      0.92      5868\n",
            "\n"
          ]
        }
      ]
    },
    {
      "cell_type": "markdown",
      "metadata": {
        "id": "Y6LRliiol6Dv"
      },
      "source": [
        "All three models performed similarly. Because in this classification both targets are equally important, meaning we want to accurately classify books into either Fiction and Nonfiction, we will choose the model that has the least amount of misclassification. In this case, **the first model is the best choice**. That model will be saved and used in the Model Inference"
      ]
    },
    {
      "cell_type": "markdown",
      "metadata": {
        "id": "XYFG1M84Ursr"
      },
      "source": [
        "# Model Saving"
      ]
    },
    {
      "cell_type": "markdown",
      "metadata": {
        "id": "esv5Ksg1mkx1"
      },
      "source": [
        "Saving best model"
      ]
    },
    {
      "cell_type": "code",
      "metadata": {
        "id": "AOQCFXZGw6ba"
      },
      "source": [
        "model.save('book_genre.h5')"
      ],
      "execution_count": 109,
      "outputs": []
    },
    {
      "cell_type": "markdown",
      "metadata": {
        "id": "9xcpZdEVs3op"
      },
      "source": [
        "# Model Inference"
      ]
    },
    {
      "cell_type": "markdown",
      "metadata": {
        "id": "GIUkt0d6mpY6"
      },
      "source": [
        "As mentioned before, we will be using the data of books that have not been classified into Fiction or Nonfiction for the Model Inference"
      ]
    },
    {
      "cell_type": "code",
      "metadata": {
        "id": "Uz7gkdktU0CZ"
      },
      "source": [
        "# Loading the final model\n",
        "model_final = tf.keras.models.load_model('book_genre.h5')"
      ],
      "execution_count": 110,
      "outputs": []
    },
    {
      "cell_type": "code",
      "metadata": {
        "colab": {
          "base_uri": "https://localhost:8080/",
          "height": 425
        },
        "id": "T4W1SuOftEsL",
        "outputId": "39c22c35-e222-4302-fd0a-575c878ecace"
      },
      "source": [
        "data_inf = data[data['label'] == 'Not Determined']\n",
        "data_inf.head()"
      ],
      "execution_count": 111,
      "outputs": [
        {
          "output_type": "execute_result",
          "data": {
            "text/html": [
              "<div>\n",
              "<style scoped>\n",
              "    .dataframe tbody tr th:only-of-type {\n",
              "        vertical-align: middle;\n",
              "    }\n",
              "\n",
              "    .dataframe tbody tr th {\n",
              "        vertical-align: top;\n",
              "    }\n",
              "\n",
              "    .dataframe thead th {\n",
              "        text-align: right;\n",
              "    }\n",
              "</style>\n",
              "<table border=\"1\" class=\"dataframe\">\n",
              "  <thead>\n",
              "    <tr style=\"text-align: right;\">\n",
              "      <th></th>\n",
              "      <th>book_authors</th>\n",
              "      <th>book_title</th>\n",
              "      <th>book_desc</th>\n",
              "      <th>genres</th>\n",
              "      <th>language</th>\n",
              "      <th>language_name</th>\n",
              "      <th>num_of_genres</th>\n",
              "      <th>list_of_genres</th>\n",
              "      <th>label</th>\n",
              "    </tr>\n",
              "  </thead>\n",
              "  <tbody>\n",
              "    <tr>\n",
              "      <th>24</th>\n",
              "      <td>Cassandra Clare|Franca Fritz|Heinrich Koop|Fra...</td>\n",
              "      <td>City of Bones</td>\n",
              "      <td>When fifteen-year-old Clary Fray heads out to ...</td>\n",
              "      <td>Fantasy|Young Adult|Fantasy|Paranormal|Romance</td>\n",
              "      <td>en</td>\n",
              "      <td>English</td>\n",
              "      <td>5</td>\n",
              "      <td>[Fantasy, Young Adult, Fantasy, Paranormal, Ro...</td>\n",
              "      <td>Not Determined</td>\n",
              "    </tr>\n",
              "    <tr>\n",
              "      <th>79</th>\n",
              "      <td>Richelle Mead</td>\n",
              "      <td>Vampire Academy</td>\n",
              "      <td>Only a true best friend can protect you from y...</td>\n",
              "      <td>Young Adult|Paranormal|Vampires|Fantasy|Fantas...</td>\n",
              "      <td>en</td>\n",
              "      <td>English</td>\n",
              "      <td>7</td>\n",
              "      <td>[Young Adult, Paranormal, Vampires, Fantasy, F...</td>\n",
              "      <td>Not Determined</td>\n",
              "    </tr>\n",
              "    <tr>\n",
              "      <th>99</th>\n",
              "      <td>Cassandra Clare</td>\n",
              "      <td>Clockwork Angel</td>\n",
              "      <td>In a time when Shadowhunters are barely winnin...</td>\n",
              "      <td>Fantasy|Young Adult|Fantasy|Paranormal|Science...</td>\n",
              "      <td>en</td>\n",
              "      <td>English</td>\n",
              "      <td>7</td>\n",
              "      <td>[Fantasy, Young Adult, Fantasy, Paranormal, Sc...</td>\n",
              "      <td>Not Determined</td>\n",
              "    </tr>\n",
              "    <tr>\n",
              "      <th>111</th>\n",
              "      <td>Eric Carle</td>\n",
              "      <td>The Very Hungry Caterpillar</td>\n",
              "      <td>THE all-time classic picture book, from genera...</td>\n",
              "      <td>Childrens|Picture Books|Childrens</td>\n",
              "      <td>en</td>\n",
              "      <td>English</td>\n",
              "      <td>3</td>\n",
              "      <td>[Childrens, Picture Books, Childrens]</td>\n",
              "      <td>Not Determined</td>\n",
              "    </tr>\n",
              "    <tr>\n",
              "      <th>123</th>\n",
              "      <td>Becca Fitzpatrick</td>\n",
              "      <td>Hush, Hush</td>\n",
              "      <td>A SACRED OATHA FALLEN ANGELA FORBIDDEN LOVERom...</td>\n",
              "      <td>Young Adult|Fantasy|Fantasy|Paranormal|Paranor...</td>\n",
              "      <td>en</td>\n",
              "      <td>English</td>\n",
              "      <td>7</td>\n",
              "      <td>[Young Adult, Fantasy, Fantasy, Paranormal, Pa...</td>\n",
              "      <td>Not Determined</td>\n",
              "    </tr>\n",
              "  </tbody>\n",
              "</table>\n",
              "</div>"
            ],
            "text/plain": [
              "                                          book_authors  ...           label\n",
              "24   Cassandra Clare|Franca Fritz|Heinrich Koop|Fra...  ...  Not Determined\n",
              "79                                       Richelle Mead  ...  Not Determined\n",
              "99                                     Cassandra Clare  ...  Not Determined\n",
              "111                                         Eric Carle  ...  Not Determined\n",
              "123                                  Becca Fitzpatrick  ...  Not Determined\n",
              "\n",
              "[5 rows x 9 columns]"
            ]
          },
          "metadata": {},
          "execution_count": 111
        }
      ]
    },
    {
      "cell_type": "markdown",
      "metadata": {
        "id": "hPnwdnkkm2Ru"
      },
      "source": [
        "First, we will clean and preprocess the data, the same way as training and validation data"
      ]
    },
    {
      "cell_type": "code",
      "metadata": {
        "colab": {
          "base_uri": "https://localhost:8080/",
          "height": 578
        },
        "id": "kQNtSlkHtmdY",
        "outputId": "c3c1fe42-a19a-4c2a-81e7-28746321bf2e"
      },
      "source": [
        "data_inf_trf = cleaner(data_inf)\n",
        "data_inf_trf.head()"
      ],
      "execution_count": 112,
      "outputs": [
        {
          "output_type": "stream",
          "name": "stderr",
          "text": [
            "/usr/local/lib/python3.7/dist-packages/ipykernel_launcher.py:27: SettingWithCopyWarning: \n",
            "A value is trying to be set on a copy of a slice from a DataFrame.\n",
            "Try using .loc[row_indexer,col_indexer] = value instead\n",
            "\n",
            "See the caveats in the documentation: https://pandas.pydata.org/pandas-docs/stable/user_guide/indexing.html#returning-a-view-versus-a-copy\n"
          ]
        },
        {
          "output_type": "execute_result",
          "data": {
            "text/html": [
              "<div>\n",
              "<style scoped>\n",
              "    .dataframe tbody tr th:only-of-type {\n",
              "        vertical-align: middle;\n",
              "    }\n",
              "\n",
              "    .dataframe tbody tr th {\n",
              "        vertical-align: top;\n",
              "    }\n",
              "\n",
              "    .dataframe thead th {\n",
              "        text-align: right;\n",
              "    }\n",
              "</style>\n",
              "<table border=\"1\" class=\"dataframe\">\n",
              "  <thead>\n",
              "    <tr style=\"text-align: right;\">\n",
              "      <th></th>\n",
              "      <th>book_authors</th>\n",
              "      <th>book_title</th>\n",
              "      <th>book_desc</th>\n",
              "      <th>genres</th>\n",
              "      <th>language</th>\n",
              "      <th>language_name</th>\n",
              "      <th>num_of_genres</th>\n",
              "      <th>list_of_genres</th>\n",
              "      <th>label</th>\n",
              "      <th>clean_desc</th>\n",
              "    </tr>\n",
              "  </thead>\n",
              "  <tbody>\n",
              "    <tr>\n",
              "      <th>24</th>\n",
              "      <td>Cassandra Clare|Franca Fritz|Heinrich Koop|Fra...</td>\n",
              "      <td>City of Bones</td>\n",
              "      <td>When fifteen-year-old Clary Fray heads out to ...</td>\n",
              "      <td>Fantasy|Young Adult|Fantasy|Paranormal|Romance</td>\n",
              "      <td>en</td>\n",
              "      <td>English</td>\n",
              "      <td>5</td>\n",
              "      <td>[Fantasy, Young Adult, Fantasy, Paranormal, Ro...</td>\n",
              "      <td>Not Determined</td>\n",
              "      <td>when fifteen year old clary fray heads out to ...</td>\n",
              "    </tr>\n",
              "    <tr>\n",
              "      <th>79</th>\n",
              "      <td>Richelle Mead</td>\n",
              "      <td>Vampire Academy</td>\n",
              "      <td>Only a true best friend can protect you from y...</td>\n",
              "      <td>Young Adult|Paranormal|Vampires|Fantasy|Fantas...</td>\n",
              "      <td>en</td>\n",
              "      <td>English</td>\n",
              "      <td>7</td>\n",
              "      <td>[Young Adult, Paranormal, Vampires, Fantasy, F...</td>\n",
              "      <td>Not Determined</td>\n",
              "      <td>only a true best friend can protect you from y...</td>\n",
              "    </tr>\n",
              "    <tr>\n",
              "      <th>99</th>\n",
              "      <td>Cassandra Clare</td>\n",
              "      <td>Clockwork Angel</td>\n",
              "      <td>In a time when Shadowhunters are barely winnin...</td>\n",
              "      <td>Fantasy|Young Adult|Fantasy|Paranormal|Science...</td>\n",
              "      <td>en</td>\n",
              "      <td>English</td>\n",
              "      <td>7</td>\n",
              "      <td>[Fantasy, Young Adult, Fantasy, Paranormal, Sc...</td>\n",
              "      <td>Not Determined</td>\n",
              "      <td>in a time when shadowhunters are barely winnin...</td>\n",
              "    </tr>\n",
              "    <tr>\n",
              "      <th>111</th>\n",
              "      <td>Eric Carle</td>\n",
              "      <td>The Very Hungry Caterpillar</td>\n",
              "      <td>THE all-time classic picture book, from genera...</td>\n",
              "      <td>Childrens|Picture Books|Childrens</td>\n",
              "      <td>en</td>\n",
              "      <td>English</td>\n",
              "      <td>3</td>\n",
              "      <td>[Childrens, Picture Books, Childrens]</td>\n",
              "      <td>Not Determined</td>\n",
              "      <td>the all time classic picture book from generat...</td>\n",
              "    </tr>\n",
              "    <tr>\n",
              "      <th>123</th>\n",
              "      <td>Becca Fitzpatrick</td>\n",
              "      <td>Hush, Hush</td>\n",
              "      <td>A SACRED OATHA FALLEN ANGELA FORBIDDEN LOVERom...</td>\n",
              "      <td>Young Adult|Fantasy|Fantasy|Paranormal|Paranor...</td>\n",
              "      <td>en</td>\n",
              "      <td>English</td>\n",
              "      <td>7</td>\n",
              "      <td>[Young Adult, Fantasy, Fantasy, Paranormal, Pa...</td>\n",
              "      <td>Not Determined</td>\n",
              "      <td>a sacred oatha fallen angela forbidden loverom...</td>\n",
              "    </tr>\n",
              "  </tbody>\n",
              "</table>\n",
              "</div>"
            ],
            "text/plain": [
              "                                          book_authors  ...                                         clean_desc\n",
              "24   Cassandra Clare|Franca Fritz|Heinrich Koop|Fra...  ...  when fifteen year old clary fray heads out to ...\n",
              "79                                       Richelle Mead  ...  only a true best friend can protect you from y...\n",
              "99                                     Cassandra Clare  ...  in a time when shadowhunters are barely winnin...\n",
              "111                                         Eric Carle  ...  the all time classic picture book from generat...\n",
              "123                                  Becca Fitzpatrick  ...  a sacred oatha fallen angela forbidden loverom...\n",
              "\n",
              "[5 rows x 10 columns]"
            ]
          },
          "metadata": {},
          "execution_count": 112
        }
      ]
    },
    {
      "cell_type": "code",
      "metadata": {
        "id": "4koIyNCYt5u9"
      },
      "source": [
        "X_inf = data_inf['clean_desc']"
      ],
      "execution_count": 113,
      "outputs": []
    },
    {
      "cell_type": "code",
      "metadata": {
        "colab": {
          "base_uri": "https://localhost:8080/"
        },
        "id": "elxuCOBHt_9w",
        "outputId": "9f89fe30-f672-45cd-ca7c-ea7c6add434b"
      },
      "source": [
        "X_inf_pad = preprocess_data(X_inf)\n",
        "X_inf_pad[0]"
      ],
      "execution_count": 114,
      "outputs": [
        {
          "output_type": "execute_result",
          "data": {
            "text/plain": [
              "array([    0,     0,     0,     0,     0,     0,     0,     0,     0,\n",
              "           0,     0,     0,     0,     0,     0,     0,     0,     0,\n",
              "           0,     0,     0,     0,     0,     0,     0,  1145,    23,\n",
              "          16, 18475, 12120,  1822, 26521,  1093,     3,    49,    58,\n",
              "        3188,  4162,  1389,   156,    80,   591,   156,  1906,    50,\n",
              "        2838,  2747,   206, 10803,  1183,  2208,   261,  2090,  2647,\n",
              "         990,   272,   383,   392,  8714,  2592,   213,   509,   162,\n",
              "          19,   330,   424,   100,   681,   100, 18475,     8,  1417,\n",
              "       34071,  1679,  2032, 21623,   174,  1123,    30,     8,   945,\n",
              "       16098, 57162,   764,    84,    24,  1477,  2048,   958,    24,\n",
              "       17292,   214,   224,   146,   846, 18475,  2906, 16098,     4,\n",
              "        1851,    44,  2090, 18475,  3102,  1719,    29,  1123,  2158,\n",
              "         521,    24, 18475,    44, 18475,   348,    83,  1787, 34071,\n",
              "          29,    24,    82], dtype=int32)"
            ]
          },
          "metadata": {},
          "execution_count": 114
        }
      ]
    },
    {
      "cell_type": "markdown",
      "metadata": {
        "id": "rdP59IXNm_zE"
      },
      "source": [
        "After that, we will classify the books into Fiction or Nonfiction using the final model"
      ]
    },
    {
      "cell_type": "code",
      "metadata": {
        "id": "Rvzn7BZ9uKSO"
      },
      "source": [
        "pred = model_final.predict(X_inf_pad)\n",
        "y_pred_inf = []\n",
        "for element in pred:\n",
        "    if element > 0.5:\n",
        "        y_pred_inf.append(1)\n",
        "    else :\n",
        "        y_pred_inf.append(0)"
      ],
      "execution_count": 115,
      "outputs": []
    },
    {
      "cell_type": "markdown",
      "metadata": {
        "id": "z9VNno-NnNBl"
      },
      "source": [
        "Here are the results:"
      ]
    },
    {
      "cell_type": "code",
      "metadata": {
        "colab": {
          "base_uri": "https://localhost:8080/"
        },
        "id": "vK12ODQNud42",
        "outputId": "9ed11403-0245-4603-a5d9-9f3b011f0d60"
      },
      "source": [
        "print('Amount of books classified as Fiction   :', y_pred_inf.count(1))\n",
        "print('Amount of books classified as Nonfiction:', y_pred_inf.count(0))"
      ],
      "execution_count": 116,
      "outputs": [
        {
          "output_type": "stream",
          "name": "stdout",
          "text": [
            "Amount of books classified as Fiction   : 13434\n",
            "Amount of books classified as Nonfiction: 1023\n"
          ]
        }
      ]
    },
    {
      "cell_type": "markdown",
      "metadata": {
        "id": "YHxbzFyLnQYe"
      },
      "source": [
        "Finally, I want to give a demo as if we want to know if a book is Fiction or Nonfiction by manually inputing a description of a book\n",
        "\n",
        "For this, we will be selecting a random data from the inference data"
      ]
    },
    {
      "cell_type": "code",
      "metadata": {
        "colab": {
          "base_uri": "https://localhost:8080/"
        },
        "id": "p4g5ybmSvdfi",
        "outputId": "87b8d5f0-7e8e-4e17-e8cd-342b7267d31d"
      },
      "source": [
        "data_inf.iloc[10]"
      ],
      "execution_count": 117,
      "outputs": [
        {
          "output_type": "execute_result",
          "data": {
            "text/plain": [
              "book_authors                                           Rick Riordan\n",
              "book_title                              The Battle of the Labyrinth\n",
              "book_desc         Percy Jackson isn't expecting freshman orienta...\n",
              "genres                        Fantasy|Young Adult|Fantasy|Mythology\n",
              "language                                                         en\n",
              "language_name                                               English\n",
              "num_of_genres                                                     4\n",
              "list_of_genres           [Fantasy, Young Adult, Fantasy, Mythology]\n",
              "label                                                Not Determined\n",
              "clean_desc        percy jackson is not expecting freshman orient...\n",
              "Name: 172, dtype: object"
            ]
          },
          "metadata": {},
          "execution_count": 117
        }
      ]
    },
    {
      "cell_type": "markdown",
      "metadata": {
        "id": "WXyAZMJ9n8C_"
      },
      "source": [
        "The randomly chosen data is a Percy Jackson book, which is a widely known Fantasy and Mythology book. If the model performed well, it should be able to predict that this book is Fiction"
      ]
    },
    {
      "cell_type": "code",
      "metadata": {
        "colab": {
          "base_uri": "https://localhost:8080/",
          "height": 105
        },
        "id": "YYMgzUMZv5lD",
        "outputId": "7db5def4-16f3-45fa-88cb-7341d55c8589"
      },
      "source": [
        "data_inf.iloc[10]['book_desc']"
      ],
      "execution_count": 118,
      "outputs": [
        {
          "output_type": "execute_result",
          "data": {
            "application/vnd.google.colaboratory.intrinsic+json": {
              "type": "string"
            },
            "text/plain": [
              "\"Percy Jackson isn't expecting freshman orientation to be any fun. But when a mysterious mortal acquaintance appears at his potential new school, followed by demon cheerleaders, things quickly move from bad to worse.In this fourth installment of the blockbuster series, time is running out as war between the Olympians and the evil Titan lord Kronos draws near. Even the safe haven of Camp Half-Blood grows more vulnerable by the minute as Kronos's army prepares to invade its once impenetrable borders. To stop the invasion, Percy and his demigod friends must set out on a quest through the Labyrinth - a sprawling underground world with stunning surprises at every turn.\""
            ]
          },
          "metadata": {},
          "execution_count": 118
        }
      ]
    },
    {
      "cell_type": "code",
      "metadata": {
        "id": "DxESTeTSS0gH"
      },
      "source": [
        "inf = 'Percy Jackson isn\\'t expecting freshman orientation to be any fun. But when a mysterious mortal acquaintance appears at his potential new school, followed by demon cheerleaders, things quickly move from bad to worse.In this fourth installment of the blockbuster series, time is running out as war between the Olympians and the evil Titan lord Kronos draws near. Even the safe haven of Camp Half-Blood grows more vulnerable by the minute as Kronos\\'s army prepares to invade its once impenetrable borders. To stop the invasion, Percy and his demigod friends must set out on a quest through the Labyrinth - a sprawling underground world with stunning surprises at every turn.'"
      ],
      "execution_count": 119,
      "outputs": []
    },
    {
      "cell_type": "code",
      "metadata": {
        "colab": {
          "base_uri": "https://localhost:8080/",
          "height": 105
        },
        "id": "Lc9sLnw9T65Y",
        "outputId": "32f07903-149a-46d9-b06f-15a1b2953c64"
      },
      "source": [
        "a = clean_text(inf)\n",
        "a"
      ],
      "execution_count": 120,
      "outputs": [
        {
          "output_type": "execute_result",
          "data": {
            "application/vnd.google.colaboratory.intrinsic+json": {
              "type": "string"
            },
            "text/plain": [
              "'percy jackson is not expecting freshman orientation to be any fun but when a mysterious mortal acquaintance appears at his potential new school followed by demon cheerleaders things quickly move from bad to worse in this fourth installment of the blockbuster series time is running out as war between the olympians and the evil titan lord kronos draws near even the safe haven of camp half blood grows more vulnerable by the minute as kronos is army prepares to invade its once impenetrable borders to stop the invasion percy and his demigod friends must set out on a quest through the labyrinth a sprawling underground world with stunning surprises at every turn'"
            ]
          },
          "metadata": {},
          "execution_count": 120
        }
      ]
    },
    {
      "cell_type": "code",
      "metadata": {
        "id": "TKssNWBNUY0i"
      },
      "source": [
        "txt_samp = pd.Series([a])"
      ],
      "execution_count": 121,
      "outputs": []
    },
    {
      "cell_type": "code",
      "metadata": {
        "colab": {
          "base_uri": "https://localhost:8080/"
        },
        "id": "2EBZz1kGU720",
        "outputId": "9f9e8fcf-78ef-43c7-e681-fde8c825f553"
      },
      "source": [
        "txt_samp"
      ],
      "execution_count": 122,
      "outputs": [
        {
          "output_type": "execute_result",
          "data": {
            "text/plain": [
              "0    percy jackson is not expecting freshman orient...\n",
              "dtype: object"
            ]
          },
          "metadata": {},
          "execution_count": 122
        }
      ]
    },
    {
      "cell_type": "code",
      "metadata": {
        "id": "8fmThZ2QTM4J"
      },
      "source": [
        "def reviewBook(model,text):\n",
        "    labels = ['Nonfiction', 'Fiction']\n",
        "    a = preprocess_data(txt_samp)\n",
        "    output = model.predict(a, batch_size=1)\n",
        "    score = (output>0.5)*1\n",
        "    pred = score.item()\n",
        "    return labels[pred]"
      ],
      "execution_count": 123,
      "outputs": []
    },
    {
      "cell_type": "code",
      "metadata": {
        "colab": {
          "base_uri": "https://localhost:8080/",
          "height": 37
        },
        "id": "uwEgOyxETrXL",
        "outputId": "203d2afd-bc81-439f-a1d8-c4557fd99693"
      },
      "source": [
        "reviewBook(model_final,txt_samp)"
      ],
      "execution_count": 124,
      "outputs": [
        {
          "output_type": "execute_result",
          "data": {
            "application/vnd.google.colaboratory.intrinsic+json": {
              "type": "string"
            },
            "text/plain": [
              "'Fiction'"
            ]
          },
          "metadata": {},
          "execution_count": 124
        }
      ]
    },
    {
      "cell_type": "markdown",
      "metadata": {
        "id": "REFueM-BoaI3"
      },
      "source": [
        "# Conclusion\n",
        "\n",
        "From Data Exploration, we found that:\n",
        "1. Most of the book descriptions are in English\n",
        "2. Most books are classified into 5-6 different genres\n",
        "3. The top genre for Fictional books is Fantasy\n",
        "4. The top genre for Non-Fictional books is Biography\n",
        "***\n",
        "In Data Preprocessing, we first cleaned the book description by:\n",
        "- Removing non-ascii characters, numbers, and punctuation\n",
        "- Replacing shortened words with their original form\n",
        "- Turning all letters into lowercase\n",
        "\n",
        "After that, we prerpocessed the cleaned data by:\n",
        "- Removing stopwords\n",
        "- Splitting the sentences into individual words\n",
        "- Doing lemmatization\n",
        "- Encoding the words into numbers\n",
        "***\n",
        "We made three different models to see which one has the best performance. All three models performed similarly. But in the end, we chose the model with one embedding layer, one LTSM layer, one dropout layer, and one sigmoid layer as our final model because that's the model that gives the least amount of misclassification\n",
        "***\n",
        "The final model is saved and used in Model Inference. In Model Inference, we classified the books in this dataset that hasn't been classified into Fiction or Nonfiction. The results are:\n",
        "- 13434 books are classified as Fiction\n",
        "- 1023 are classified as Nonfiction\n",
        "\n",
        "We also tried classifying a book by manually inputing the description. The model successfully predicted a Percy Jackson book as Fiction\n"
      ]
    },
    {
      "cell_type": "code",
      "metadata": {
        "id": "r8sSV9NyT2My"
      },
      "source": [
        ""
      ],
      "execution_count": null,
      "outputs": []
    }
  ]
}